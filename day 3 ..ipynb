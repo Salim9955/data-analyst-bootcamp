{
 "cells": [
  {
   "cell_type": "code",
   "execution_count": 2,
   "id": "4344a538-e4ea-45cd-9b09-bb7704fe08b3",
   "metadata": {},
   "outputs": [
    {
     "name": "stdin",
     "output_type": "stream",
     "text": [
      "Enter a number 3\n"
     ]
    },
    {
     "name": "stdout",
     "output_type": "stream",
     "text": [
      "3 x 1=3\n",
      "3 x 2=6\n",
      "3 x 3=9\n",
      "3 x 4=12\n",
      "3 x 5=15\n",
      "3 x 6=18\n",
      "3 x 7=21\n",
      "3 x 8=24\n",
      "3 x 9=27\n",
      "3 x 10=30\n"
     ]
    }
   ],
   "source": [
    "num=int(input(\"Enter a number\"))\n",
    "i=1\n",
    "while i<=10:\n",
    "    print(f\"{num} x {i}={num * i}\")\n",
    "    i+=1\n"
   ]
  },
  {
   "cell_type": "code",
   "execution_count": 3,
   "id": "b694a1b9-f97e-4d94-b6bb-cbe785fdc9d6",
   "metadata": {},
   "outputs": [
    {
     "name": "stdin",
     "output_type": "stream",
     "text": [
      "Enter Q to Exit e\n"
     ]
    },
    {
     "name": "stdout",
     "output_type": "stream",
     "text": [
      "you typed: e\n"
     ]
    },
    {
     "name": "stdin",
     "output_type": "stream",
     "text": [
      "Enter Q to Exit q\n"
     ]
    },
    {
     "name": "stdout",
     "output_type": "stream",
     "text": [
      "Exited Loop\n"
     ]
    }
   ],
   "source": [
    "while True:\n",
    "    char=input(\"Enter Q to Exit\")\n",
    "    if char=='q':\n",
    "        print(\"Exited Loop\")\n",
    "        break\n",
    "    else:\n",
    "        print(\"you typed:\",char)"
   ]
  },
  {
   "cell_type": "code",
   "execution_count": 5,
   "id": "f6de0af4-5ca0-4481-906f-efa435b5d0f6",
   "metadata": {},
   "outputs": [
    {
     "name": "stdin",
     "output_type": "stream",
     "text": [
      "Enter Password: 345\n"
     ]
    },
    {
     "name": "stdout",
     "output_type": "stream",
     "text": [
      "Wrong Password,Try Again\n"
     ]
    },
    {
     "name": "stdin",
     "output_type": "stream",
     "text": [
      "Enter Password: 123\n"
     ]
    },
    {
     "name": "stdout",
     "output_type": "stream",
     "text": [
      "Password is Correct\n"
     ]
    }
   ],
   "source": [
    "password='123'\n",
    "attempt=3\n",
    "current=0\n",
    "while current<attempt:\n",
    "    num=str(input(\"Enter Password:\"))\n",
    "    if num==password:\n",
    "        print(\"Password is Correct\")\n",
    "        break\n",
    "    else:\n",
    "        print(\"Wrong Password,Try Again\")\n",
    "        current+=1\n",
    "        if attempt==current:\n",
    "            print(\"Too Many Atteempts\")"
   ]
  },
  {
   "cell_type": "code",
   "execution_count": 7,
   "id": "a4ceb3f2-e8d3-416c-9b6c-7efc678ed5ac",
   "metadata": {},
   "outputs": [
    {
     "name": "stdout",
     "output_type": "stream",
     "text": [
      "7 is divisible by 7\n",
      "14 is divisible by 7\n",
      "21 is divisible by 7\n",
      "28 is divisible by 7\n",
      "35 is divisible by 7\n",
      "42 is divisible by 7\n",
      "49 is divisible by 7\n",
      "56 is divisible by 7\n",
      "63 is divisible by 7\n",
      "70 is divisible by 7\n",
      "77 is divisible by 7\n",
      "84 is divisible by 7\n",
      "91 is divisible by 7\n",
      "98 is divisible by 7\n"
     ]
    }
   ],
   "source": [
    "i=1\n",
    "while i<=100:\n",
    "    if i%7==0:\n",
    "        print(i,\"is divisible by 7\")\n",
    "    i+=1\n"
   ]
  },
  {
   "cell_type": "code",
   "execution_count": 8,
   "id": "171914fa-b738-424f-b9e9-f43290bb5d60",
   "metadata": {},
   "outputs": [
    {
     "name": "stdin",
     "output_type": "stream",
     "text": [
      "Enter a number: 3\n"
     ]
    },
    {
     "name": "stdout",
     "output_type": "stream",
     "text": [
      "3x1=3\n",
      "3x2=6\n",
      "3x3=9\n",
      "3x4=12\n",
      "3x5=15\n",
      "3x6=18\n",
      "3x7=21\n",
      "3x8=24\n",
      "3x9=27\n",
      "3x10=30\n"
     ]
    }
   ],
   "source": [
    "num=int(input(\"Enter a number:\"))\n",
    "for i in range(1,11):\n",
    "    print(f\"{num}x{i}={num * i}\")"
   ]
  },
  {
   "cell_type": "code",
   "execution_count": 9,
   "id": "0de4563b-dc92-4be2-9ba7-156de66ec204",
   "metadata": {},
   "outputs": [
    {
     "name": "stdin",
     "output_type": "stream",
     "text": [
      "Enter password: 345\n"
     ]
    },
    {
     "name": "stdout",
     "output_type": "stream",
     "text": [
      "Password is Incorrect\n"
     ]
    },
    {
     "name": "stdin",
     "output_type": "stream",
     "text": [
      "Enter password: 123\n"
     ]
    },
    {
     "name": "stdout",
     "output_type": "stream",
     "text": [
      "Password is Correct\n"
     ]
    }
   ],
   "source": [
    "password='123'\n",
    "attempt=3\n",
    "current=0\n",
    "for i in range (1,4):\n",
    "    num=str(input(\"Enter password:\"))\n",
    "    if num==password:\n",
    "        print(\"Password is Correct\")\n",
    "        break\n",
    "    else:\n",
    "        print(\"Password is Incorrect\")\n",
    "        current+=1\n",
    "        if attempt==current:\n",
    "            print(\"Too Many Attempts\")"
   ]
  },
  {
   "cell_type": "code",
   "execution_count": 10,
   "id": "b547fe72-dce0-42ce-9e0e-31be7b484854",
   "metadata": {},
   "outputs": [
    {
     "name": "stdout",
     "output_type": "stream",
     "text": [
      "1\n",
      "2\n",
      "3\n",
      "4\n",
      "6\n",
      "7\n"
     ]
    }
   ],
   "source": [
    "for i in range(1, 11):\n",
    "    if i==5:\n",
    "        continue\n",
    "    elif i==8:\n",
    "        break\n",
    "    else:\n",
    "        print(i)\n"
   ]
  },
  {
   "cell_type": "code",
   "execution_count": 11,
   "id": "4ef52f8e-0550-4a8e-a756-64ae0d6a7d96",
   "metadata": {},
   "outputs": [
    {
     "name": "stdin",
     "output_type": "stream",
     "text": [
      "Enter password: 123\n"
     ]
    },
    {
     "name": "stdout",
     "output_type": "stream",
     "text": [
      "Password is Correct\n"
     ]
    }
   ],
   "source": [
    "password='123'\n",
    "attempt=5\n",
    "current=0\n",
    "for i in range (6):\n",
    "    num=str(input(\"Enter password:\"))\n",
    "    if num==password:\n",
    "        print(\"Password is Correct\")\n",
    "        break\n",
    "    elif num=='forget':\n",
    "        continue\n",
    "    else:\n",
    "        print(\"Password is Incorrect\")\n",
    "        current+=1\n",
    "        if attempt==current:\n",
    "            print(\"Too Many Attempts\")"
   ]
  },
  {
   "cell_type": "code",
   "execution_count": 13,
   "id": "002d9e41-3343-47ef-bcd4-54084d0f0f01",
   "metadata": {},
   "outputs": [
    {
     "name": "stdin",
     "output_type": "stream",
     "text": [
      "Enter a char o\n",
      "Enter a char n\n"
     ]
    },
    {
     "name": "stdout",
     "output_type": "stream",
     "text": [
      "loop exited\n"
     ]
    }
   ],
   "source": [
    "for i in range(1, 11):\n",
    "    num=str(input(\"Enter a char\"))\n",
    "    if num=='o':\n",
    "        continue\n",
    "    elif num=='n':\n",
    "        print(\"loop exited\")\n",
    "        break\n",
    "    else:\n",
    "        print(num)"
   ]
  },
  {
   "cell_type": "code",
   "execution_count": 14,
   "id": "35240a85-bc1a-4f8e-984a-a0c3ef85837a",
   "metadata": {},
   "outputs": [
    {
     "name": "stdout",
     "output_type": "stream",
     "text": [
      "Hello World\n"
     ]
    }
   ],
   "source": [
    "def salim():\n",
    "    print(\"Hello World\")\n",
    "salim()"
   ]
  },
  {
   "cell_type": "code",
   "execution_count": 15,
   "id": "29211f27-ede2-4fe9-aee6-0a75f4836ee8",
   "metadata": {},
   "outputs": [
    {
     "name": "stdout",
     "output_type": "stream",
     "text": [
      "Sum of 1 and 3  is = 4\n"
     ]
    }
   ],
   "source": [
    "def add(num1,num2):\n",
    "    sum=num1+num2\n",
    "    print(\"Sum of\",num1,\"and\",num2,\" is =\",sum)\n",
    "add(1,3)"
   ]
  },
  {
   "cell_type": "code",
   "execution_count": 16,
   "id": "745b8acb-8428-4da0-bc72-c2eb5c05e884",
   "metadata": {},
   "outputs": [
    {
     "name": "stdout",
     "output_type": "stream",
     "text": [
      "mar\n"
     ]
    }
   ],
   "source": [
    "def reverse(word):\n",
    "    print(word[::-1])\n",
    "reverse(\"ram\")"
   ]
  },
  {
   "cell_type": "code",
   "execution_count": 17,
   "id": "38b1ff86-78c4-4fb1-a6f4-50a9466abb17",
   "metadata": {},
   "outputs": [
    {
     "ename": "SyntaxError",
     "evalue": "invalid syntax (988460046.py, line 3)",
     "output_type": "error",
     "traceback": [
      "\u001b[0;36m  Cell \u001b[0;32mIn[17], line 3\u001b[0;36m\u001b[0m\n\u001b[0;31m    where x=0\u001b[0m\n\u001b[0m          ^\u001b[0m\n\u001b[0;31mSyntaxError\u001b[0m\u001b[0;31m:\u001b[0m invalid syntax\n"
     ]
    }
   ],
   "source": [
    "if x: \n",
    "    print('Hello') \n",
    "    where x=0"
   ]
  },
  {
   "cell_type": "code",
   "execution_count": 18,
   "id": "4d5595a7-81a3-47c6-b43d-8e00e98f201b",
   "metadata": {},
   "outputs": [
    {
     "ename": "SyntaxError",
     "evalue": "invalid syntax. Maybe you meant '==' or ':=' instead of '='? (889236714.py, line 1)",
     "output_type": "error",
     "traceback": [
      "\u001b[0;36m  Cell \u001b[0;32mIn[18], line 1\u001b[0;36m\u001b[0m\n\u001b[0;31m    if x=5;\u001b[0m\n\u001b[0m       ^\u001b[0m\n\u001b[0;31mSyntaxError\u001b[0m\u001b[0;31m:\u001b[0m invalid syntax. Maybe you meant '==' or ':=' instead of '='?\n"
     ]
    }
   ],
   "source": [
    "if x=5; \n",
    "elif x==6:"
   ]
  },
  {
   "cell_type": "code",
   "execution_count": 19,
   "id": "f7b1491b-40cf-4141-ba89-acba631131d3",
   "metadata": {},
   "outputs": [
    {
     "name": "stdout",
     "output_type": "stream",
     "text": [
      "1\n",
      "4\n",
      "7\n"
     ]
    }
   ],
   "source": [
    "for i in range(1,10,3) : \n",
    "    print(i)\n"
   ]
  },
  {
   "cell_type": "code",
   "execution_count": 20,
   "id": "eebc1f77-5342-450e-ad49-e5a6264c1be3",
   "metadata": {},
   "outputs": [
    {
     "name": "stdout",
     "output_type": "stream",
     "text": [
      "1\n",
      "2\n",
      "3\n",
      "Yes\n"
     ]
    }
   ],
   "source": [
    "for x in [1,2,3]: print(x)\n",
    "x = 5; \n",
    "if x > 3: print('Yes')"
   ]
  },
  {
   "cell_type": "code",
   "execution_count": 22,
   "id": "9be2e27f-7d18-4e81-9e1c-7fc05208f5ca",
   "metadata": {},
   "outputs": [
    {
     "name": "stdin",
     "output_type": "stream",
     "text": [
      "Enter First Number 1\n",
      "Enter Second Number 2\n"
     ]
    },
    {
     "name": "stdout",
     "output_type": "stream",
     "text": [
      "Sum of 1 and 2 is equal to 3\n"
     ]
    }
   ],
   "source": [
    "num1=int(input(\"Enter First Number\"))\n",
    "num2=int(input(\"Enter Second Number\"))\n",
    "sum=num1+num2\n",
    "print(\"Sum of\",num1,\"and\",num2,\"is equal to\",sum)\n"
   ]
  },
  {
   "cell_type": "code",
   "execution_count": 23,
   "id": "2329481f-f476-4045-b9ae-a48cb6de1c53",
   "metadata": {},
   "outputs": [
    {
     "name": "stdin",
     "output_type": "stream",
     "text": [
      "Enter a Number 2\n"
     ]
    },
    {
     "name": "stdout",
     "output_type": "stream",
     "text": [
      "The number is even\n"
     ]
    }
   ],
   "source": [
    "num=int(input(\"Enter a Number\"))\n",
    "if num%2==0:\n",
    "    print(\"The number is even\")\n",
    "else:\n",
    "    print(\"The number is odd\")"
   ]
  },
  {
   "cell_type": "code",
   "execution_count": 24,
   "id": "40084682-7a25-42ec-9917-8867809d7833",
   "metadata": {},
   "outputs": [
    {
     "name": "stdin",
     "output_type": "stream",
     "text": [
      "Enter First Number 1\n",
      "Enter Second Number 4\n"
     ]
    },
    {
     "name": "stdout",
     "output_type": "stream",
     "text": [
      "4 is greater\n"
     ]
    }
   ],
   "source": [
    "num1=int(input(\"Enter First Number\"))\n",
    "num2=int(input(\"Enter Second Number\"))\n",
    "if num1>num2:\n",
    "    print(num1,\"is greater\")\n",
    "else:\n",
    "    print(num2,\"is greater\")"
   ]
  },
  {
   "cell_type": "code",
   "execution_count": 25,
   "id": "433a9795-298f-4503-ac0a-863eafa486f1",
   "metadata": {},
   "outputs": [
    {
     "name": "stdin",
     "output_type": "stream",
     "text": [
      "Enter a Number -6\n"
     ]
    },
    {
     "name": "stdout",
     "output_type": "stream",
     "text": [
      "-6 is negative\n"
     ]
    }
   ],
   "source": [
    "num=int(input(\"Enter a Number\"))\n",
    "if num<0:\n",
    "    print(num,\"is negative\")\n",
    "elif num>0:\n",
    "    print(num,\"is positive\")\n",
    "else:\n",
    "    print(num,\"is equal to zero\")"
   ]
  },
  {
   "cell_type": "code",
   "execution_count": 26,
   "id": "bf1a2958-43d8-47ad-98e9-e3ae7095f4fd",
   "metadata": {},
   "outputs": [
    {
     "name": "stdout",
     "output_type": "stream",
     "text": [
      "1\n",
      "2\n",
      "3\n",
      "4\n",
      "5\n",
      "6\n",
      "7\n",
      "8\n",
      "9\n",
      "10\n"
     ]
    }
   ],
   "source": [
    "i=1\n",
    "while i<11:\n",
    "    print(i)\n",
    "    i+=1"
   ]
  },
  {
   "cell_type": "code",
   "execution_count": 27,
   "id": "fba66e99-b5fc-4053-9746-e093d082e7ab",
   "metadata": {},
   "outputs": [
    {
     "name": "stdin",
     "output_type": "stream",
     "text": [
      "Enter a number: 9\n"
     ]
    },
    {
     "name": "stdout",
     "output_type": "stream",
     "text": [
      "9x1=9\n",
      "9x2=18\n",
      "9x3=27\n",
      "9x4=36\n",
      "9x5=45\n",
      "9x6=54\n",
      "9x7=63\n",
      "9x8=72\n",
      "9x9=81\n",
      "9x10=90\n"
     ]
    }
   ],
   "source": [
    "num=int(input(\"Enter a number:\"))\n",
    "for i in range(1,11):\n",
    "    print(f\"{num}x{i}={num * i}\")"
   ]
  },
  {
   "cell_type": "code",
   "execution_count": 28,
   "id": "e7d42aab-e08f-4999-a4c7-9bb0c4235251",
   "metadata": {},
   "outputs": [
    {
     "name": "stdin",
     "output_type": "stream",
     "text": [
      "Enter a number: 3\n"
     ]
    },
    {
     "name": "stdout",
     "output_type": "stream",
     "text": [
      "Factorial: 6\n"
     ]
    }
   ],
   "source": [
    "num=int(input(\"Enter a number:\"))\n",
    "fact=1\n",
    "for i in range(1,num+1):\n",
    "    fact*=i\n",
    "print(\"Factorial:\",fact)"
   ]
  },
  {
   "cell_type": "code",
   "execution_count": 30,
   "id": "f86fbf86-6658-4ff7-a257-31ab8fbb79d1",
   "metadata": {},
   "outputs": [
    {
     "name": "stdin",
     "output_type": "stream",
     "text": [
      "Enter a number: 98\n"
     ]
    },
    {
     "name": "stdout",
     "output_type": "stream",
     "text": [
      "Reversed: 89\n"
     ]
    }
   ],
   "source": [
    "num=int(input(\"Enter a number:\"))\n",
    "rev=0\n",
    "while num>0:\n",
    "    rev=rev*10+num%10\n",
    "    num//=10\n",
    "print(\"Reversed:\",rev)"
   ]
  },
  {
   "cell_type": "code",
   "execution_count": null,
   "id": "72dfe411-13db-4e48-973b-bcc82996ecc5",
   "metadata": {},
   "outputs": [],
   "source": []
  },
  {
   "cell_type": "code",
   "execution_count": 32,
   "id": "2558d962-16f2-49e3-8988-19ab60eedf89",
   "metadata": {},
   "outputs": [
    {
     "name": "stdin",
     "output_type": "stream",
     "text": [
      "Enter a number: 3\n"
     ]
    },
    {
     "name": "stdout",
     "output_type": "stream",
     "text": [
      "Prime\n"
     ]
    }
   ],
   "source": [
    "n=int(input(\"Enter a number:\"))\n",
    "if n<2:\n",
    "    print(\"Not Prime\")\n",
    "else:\n",
    "    for i in range(2, int(n**0.5) + 1):\n",
    "        if n%i==0:\n",
    "            print(\"Not Prime\")\n",
    "            break\n",
    "    else:\n",
    "        print(\"Prime\")"
   ]
  },
  {
   "cell_type": "code",
   "execution_count": 33,
   "id": "a8c7f437-cde4-4565-855f-bd6d90a60c48",
   "metadata": {},
   "outputs": [
    {
     "name": "stdin",
     "output_type": "stream",
     "text": [
      "Enter number of terms: 5\n"
     ]
    },
    {
     "name": "stdout",
     "output_type": "stream",
     "text": [
      "0\n",
      "1\n",
      "2\n",
      "4\n",
      "8\n"
     ]
    }
   ],
   "source": [
    "num=int(input(\"Enter number of terms:\"))\n",
    "a=0\n",
    "b=1\n",
    "for i in range(num):\n",
    "    print(a)\n",
    "    a=b\n",
    "    b=a+b"
   ]
  },
  {
   "cell_type": "code",
   "execution_count": 36,
   "id": "512ac4ce-a147-4e6e-9400-326f4b49ab2d",
   "metadata": {},
   "outputs": [
    {
     "name": "stdin",
     "output_type": "stream",
     "text": [
      "Enter numbers: 6\n"
     ]
    },
    {
     "name": "stdout",
     "output_type": "stream",
     "text": [
      "Even numbers: [6]\n"
     ]
    }
   ],
   "source": [
    "lst=[int(x) for x in input(\"Enter numbers:\").split()]\n",
    "evens = [x for x in lst if x % 2 == 0]\n",
    "print(\"Even numbers:\",evens)"
   ]
  },
  {
   "cell_type": "code",
   "execution_count": 37,
   "id": "28e109c0-8b4b-4b37-b402-73f9d41445c7",
   "metadata": {},
   "outputs": [
    {
     "name": "stdout",
     "output_type": "stream",
     "text": [
      "1\n",
      "2\n",
      "3\n",
      "4\n",
      "6\n",
      "7\n"
     ]
    }
   ],
   "source": [
    "for i in range(1, 11):\n",
    "    if i==5:\n",
    "        continue\n",
    "    elif i==8:\n",
    "        break\n",
    "    else:\n",
    "        print(i)"
   ]
  },
  {
   "cell_type": "code",
   "execution_count": null,
   "id": "bac6f2d0-3cbc-42b2-b3f1-a4e81542faeb",
   "metadata": {},
   "outputs": [],
   "source": []
  }
 ],
 "metadata": {
  "kernelspec": {
   "display_name": "anaconda-ai-2024.04-py310",
   "language": "python",
   "name": "conda-env-anaconda-ai-2024.04-py310-py"
  },
  "language_info": {
   "codemirror_mode": {
    "name": "ipython",
    "version": 3
   },
   "file_extension": ".py",
   "mimetype": "text/x-python",
   "name": "python",
   "nbconvert_exporter": "python",
   "pygments_lexer": "ipython3",
   "version": "3.10.13"
  }
 },
 "nbformat": 4,
 "nbformat_minor": 5
}
