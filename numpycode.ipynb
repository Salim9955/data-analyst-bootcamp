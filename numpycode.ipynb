{
 "cells": [
  {
   "cell_type": "code",
   "execution_count": 1,
   "id": "2d0557e9-ceb7-4351-9963-494f54824211",
   "metadata": {},
   "outputs": [],
   "source": [
    "import numpy as np\n"
   ]
  },
  {
   "cell_type": "code",
   "execution_count": 2,
   "id": "47b11d03-b843-4d83-9add-3858cd656b10",
   "metadata": {},
   "outputs": [
    {
     "name": "stdout",
     "output_type": "stream",
     "text": [
      "[ 0  1  2  3  4  5  6  7  8  9 10]\n"
     ]
    }
   ],
   "source": [
    "#create a numpy array of integer from 0 to 10\n",
    "arr1 = np.arange(11)\n",
    "print(arr1)\n"
   ]
  },
  {
   "cell_type": "code",
   "execution_count": 3,
   "id": "b7d361db-6451-4dfa-b11b-aa33bcf6fa35",
   "metadata": {},
   "outputs": [
    {
     "name": "stdout",
     "output_type": "stream",
     "text": [
      "[0. 0. 0. 0. 1. 0. 0. 0. 0. 0.]\n"
     ]
    }
   ],
   "source": [
    "#create an array of 10 zeros and chamge the 5th value to 1\n",
    "arr2 = np.zeros(10)\n",
    "arr2[4] = 1\n",
    "print(arr2)\n"
   ]
  },
  {
   "cell_type": "code",
   "execution_count": 4,
   "id": "c0147d18-b166-4e90-a0bd-26f5b1f6d018",
   "metadata": {},
   "outputs": [
    {
     "name": "stdout",
     "output_type": "stream",
     "text": [
      "[1. 1. 1. 1. 1. 1. 1. 1. 1. 1.]\n"
     ]
    }
   ],
   "source": [
    "#Generate an array of 10 ones.\n",
    "arr3 = np.ones(10)\n",
    "print(arr3)\n",
    "\n"
   ]
  },
  {
   "cell_type": "code",
   "execution_count": 5,
   "id": "8908cf56-cd57-4b49-a5da-0d621dc34fe8",
   "metadata": {},
   "outputs": [
    {
     "name": "stdout",
     "output_type": "stream",
     "text": [
      "[0.         0.05263158 0.10526316 0.15789474 0.21052632 0.26315789\n",
      " 0.31578947 0.36842105 0.42105263 0.47368421 0.52631579 0.57894737\n",
      " 0.63157895 0.68421053 0.73684211 0.78947368 0.84210526 0.89473684\n",
      " 0.94736842 1.        ]\n"
     ]
    }
   ],
   "source": [
    "#Create a 1D array of 20 equally spaced numbers between 0 and 1\n",
    "arr4 = np.linspace(0, 1, 20)\n",
    "print(arr4)\n"
   ]
  },
  {
   "cell_type": "code",
   "execution_count": 6,
   "id": "f01faa0e-03f9-4e55-a450-cc207cbf4f6f",
   "metadata": {},
   "outputs": [
    {
     "name": "stdout",
     "output_type": "stream",
     "text": [
      "[[1. 0. 0.]\n",
      " [0. 1. 0.]\n",
      " [0. 0. 1.]]\n"
     ]
    }
   ],
   "source": [
    "#Create a 3x3 identity matrix.\n",
    "arr5 = np.eye(3)\n",
    "print(arr5)\n"
   ]
  },
  {
   "cell_type": "code",
   "execution_count": 7,
   "id": "f697970e-e063-4447-9b79-e1f75b56f556",
   "metadata": {},
   "outputs": [
    {
     "name": "stdout",
     "output_type": "stream",
     "text": [
      "[[ 0  1  2  3]\n",
      " [ 4  5  6  7]\n",
      " [ 8  9 10 11]\n",
      " [12 13 14 15]]\n"
     ]
    }
   ],
   "source": [
    "#Create a 4x4 matrix with values from 0 to 15.\n",
    "arr6 = np.arange(16).reshape(4, 4)\n",
    "print(arr6)\n"
   ]
  },
  {
   "cell_type": "code",
   "execution_count": 8,
   "id": "2223f9d9-e3f0-4c88-862e-b256b6bc082f",
   "metadata": {},
   "outputs": [
    {
     "name": "stdout",
     "output_type": "stream",
     "text": [
      "[[0.13419663 0.06166743 0.8362412  0.36152324 0.32239434]\n",
      " [0.15728395 0.53220089 0.17572484 0.03918057 0.64645461]\n",
      " [0.38561334 0.77261349 0.0380203  0.93972011 0.57694063]\n",
      " [0.97783501 0.21029362 0.38592437 0.79840459 0.09596214]\n",
      " [0.69511522 0.58365608 0.2821309  0.16505672 0.22281973]]\n"
     ]
    }
   ],
   "source": [
    "#Generate a 5x5 matrix with random values.\n",
    "\n",
    "arr7 = np.random.rand(5, 5)\n",
    "print(arr7)\n"
   ]
  },
  {
   "cell_type": "code",
   "execution_count": 12,
   "id": "226c19ba-eac1-49ed-a6b6-92dc58a43c03",
   "metadata": {},
   "outputs": [
    {
     "name": "stdout",
     "output_type": "stream",
     "text": [
      "[5 4 3 2 1]\n"
     ]
    }
   ],
   "source": [
    "#Reverse the elements of an array.\n",
    "arr8 = np.array([1, 2, 3, 4, 5])\n",
    "arr8reversed = arr8[::-1]\n",
    "print(arr8reversed)\n",
    "\n"
   ]
  },
  {
   "cell_type": "code",
   "execution_count": 10,
   "id": "2561d892-068c-4fb3-9bee-ca47362a8332",
   "metadata": {},
   "outputs": [
    {
     "name": "stdout",
     "output_type": "stream",
     "text": [
      "[1 2 3 4 5 6]\n"
     ]
    }
   ],
   "source": [
    "#Flatten a 2D array to 1D.\n",
    "arr9 = np.array([[1, 2, 3], [4, 5, 6]])\n",
    "arr9flattened = arr9.flatten()\n",
    "print(arr9flattened)"
   ]
  },
  {
   "cell_type": "code",
   "execution_count": 13,
   "id": "39c9d8d9-4e90-4daf-969f-77451157173e",
   "metadata": {},
   "outputs": [
    {
     "name": "stdout",
     "output_type": "stream",
     "text": [
      "Even numbers: [ 2  4  6  8 10]\n"
     ]
    }
   ],
   "source": [
    "#extract even number from an array \n",
    "arr = np.array([1, 2, 3, 4, 5, 6, 7, 8, 9, 10])\n",
    "evennumbers = arr[arr % 2 == 0]\n",
    "print(\"Even numbers:\", evennumbers)"
   ]
  },
  {
   "cell_type": "code",
   "execution_count": null,
   "id": "7d3df17c-1588-41b3-85f7-d294ef856f22",
   "metadata": {},
   "outputs": [],
   "source": []
  }
 ],
 "metadata": {
  "kernelspec": {
   "display_name": "Python [conda env:base] *",
   "language": "python",
   "name": "conda-base-py"
  },
  "language_info": {
   "codemirror_mode": {
    "name": "ipython",
    "version": 3
   },
   "file_extension": ".py",
   "mimetype": "text/x-python",
   "name": "python",
   "nbconvert_exporter": "python",
   "pygments_lexer": "ipython3",
   "version": "3.13.5"
  }
 },
 "nbformat": 4,
 "nbformat_minor": 5
}
