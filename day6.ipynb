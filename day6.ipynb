{
 "cells": [
  {
   "cell_type": "code",
   "execution_count": 1,
   "id": "82ab1ce6-358b-4d2b-95cb-45d6ef1f2a82",
   "metadata": {},
   "outputs": [
    {
     "name": "stdout",
     "output_type": "stream",
     "text": [
      "Hello\n"
     ]
    }
   ],
   "source": [
    "s=\"hello\"\n",
    "print(s.capitalize())"
   ]
  },
  {
   "cell_type": "code",
   "execution_count": 2,
   "id": "afb7aa5d-9192-48dc-88a3-07de62391130",
   "metadata": {},
   "outputs": [
    {
     "name": "stdout",
     "output_type": "stream",
     "text": [
      "HELLO\n"
     ]
    }
   ],
   "source": [
    "s=\"hello\"\n",
    "print(s.upper())"
   ]
  },
  {
   "cell_type": "code",
   "execution_count": 4,
   "id": "f9be77c7-89bb-490c-af7a-71c0e221a91e",
   "metadata": {},
   "outputs": [
    {
     "name": "stdout",
     "output_type": "stream",
     "text": [
      "hello\n"
     ]
    }
   ],
   "source": [
    "s=\"Hello\"\n",
    "print(s.lower())"
   ]
  },
  {
   "cell_type": "code",
   "execution_count": 5,
   "id": "0f132b4e-412c-49d7-8a8f-db140731600e",
   "metadata": {},
   "outputs": [
    {
     "name": "stdout",
     "output_type": "stream",
     "text": [
      "Hello\n"
     ]
    }
   ],
   "source": [
    "s=\"hello\"\n",
    "print(s.title())"
   ]
  },
  {
   "cell_type": "code",
   "execution_count": 6,
   "id": "4b5b76db-f086-42df-adcd-6e40ea197b0a",
   "metadata": {},
   "outputs": [
    {
     "name": "stdout",
     "output_type": "stream",
     "text": [
      "HElLO\n"
     ]
    }
   ],
   "source": [
    "s=\"heLlo\"\n",
    "print(s.swapcase())"
   ]
  },
  {
   "cell_type": "code",
   "execution_count": 8,
   "id": "17c4dbe3-d5c0-4918-9af1-c379fb12d483",
   "metadata": {},
   "outputs": [
    {
     "name": "stdout",
     "output_type": "stream",
     "text": [
      "  hello  \n",
      "hello\n",
      "hello  \n",
      "  hello\n"
     ]
    }
   ],
   "source": [
    "s=\"  hello a \"\n",
    "print(s)\n",
    "print(s.strip())\n",
    "print(s.lstrip())\n",
    "print(s.rstrip())"
   ]
  },
  {
   "cell_type": "code",
   "execution_count": 10,
   "id": "ffd14221-e4d5-4f51-9200-c89b5cbf90b3",
   "metadata": {},
   "outputs": [
    {
     "name": "stdout",
     "output_type": "stream",
     "text": [
      "heLlo p\n"
     ]
    }
   ],
   "source": [
    "s=\"heLlo a\"\n",
    "print(s.replace(\"a\",\"p\"))"
   ]
  },
  {
   "cell_type": "code",
   "execution_count": 15,
   "id": "c26b58ce-2021-4ece-9a65-0642bce61ec8",
   "metadata": {},
   "outputs": [
    {
     "name": "stdout",
     "output_type": "stream",
     "text": [
      "['apple', 'banana', 'mango']\n"
     ]
    }
   ],
   "source": [
    "s=\"apple,banana,mango\"\n",
    "print(s.split(\",\"))"
   ]
  },
  {
   "cell_type": "code",
   "execution_count": 17,
   "id": "e09b864f-326a-4f68-b7a5-f1fe9fe86ee3",
   "metadata": {},
   "outputs": [
    {
     "name": "stdout",
     "output_type": "stream",
     "text": [
      "6\n"
     ]
    }
   ],
   "source": [
    "s=\"apple banana mango\"\n",
    "print(s.find(\"banana\"))"
   ]
  },
  {
   "cell_type": "code",
   "execution_count": 18,
   "id": "ae703a1c-4ea2-4b61-bdf5-623cd67404ce",
   "metadata": {},
   "outputs": [
    {
     "name": "stdout",
     "output_type": "stream",
     "text": [
      "6\n"
     ]
    }
   ],
   "source": [
    "s=\"apple banana mango\"\n",
    "print(s.index(\"b\"))\n"
   ]
  },
  {
   "cell_type": "code",
   "execution_count": 19,
   "id": "223c2efc-490c-4871-a965-4719dd9ae873",
   "metadata": {},
   "outputs": [
    {
     "name": "stdout",
     "output_type": "stream",
     "text": [
      "1\n"
     ]
    }
   ],
   "source": [
    "s=\"apple banana mango\"\n",
    "print(s.count(\"banana\"))"
   ]
  },
  {
   "cell_type": "code",
   "execution_count": 21,
   "id": "3f6cfe48-7156-48b0-8d97-7deee3c82aab",
   "metadata": {},
   "outputs": [
    {
     "name": "stdout",
     "output_type": "stream",
     "text": [
      "True\n"
     ]
    }
   ],
   "source": [
    "s=\"apple\"\n",
    "print(s.isalpha())"
   ]
  },
  {
   "cell_type": "code",
   "execution_count": 22,
   "id": "f8f418c0-1eb7-4e22-8016-75297e50eaea",
   "metadata": {},
   "outputs": [
    {
     "name": "stdout",
     "output_type": "stream",
     "text": [
      "True\n"
     ]
    }
   ],
   "source": [
    "s=\"123\"\n",
    "print(s.isdigit())"
   ]
  },
  {
   "cell_type": "code",
   "execution_count": 23,
   "id": "c5139c6e-90da-4719-be35-746e0138c626",
   "metadata": {},
   "outputs": [
    {
     "name": "stdout",
     "output_type": "stream",
     "text": [
      "True\n"
     ]
    }
   ],
   "source": [
    "s=\"app12\"\n",
    "print(s.isalnum())"
   ]
  },
  {
   "cell_type": "code",
   "execution_count": 24,
   "id": "a93eb03f-8a8a-4c5a-9bc4-8e32554fb2d2",
   "metadata": {},
   "outputs": [
    {
     "name": "stdout",
     "output_type": "stream",
     "text": [
      "my name is ankit and i am 20 year old\n"
     ]
    }
   ],
   "source": [
    "name = \"ankit\"\n",
    "age=20\n",
    "print(\"my name is {} and i am {} year old\".format(name,age))"
   ]
  },
  {
   "cell_type": "code",
   "execution_count": 34,
   "id": "b509068d-856a-45db-b69b-c562144f62b8",
   "metadata": {},
   "outputs": [
    {
     "name": "stdin",
     "output_type": "stream",
     "text": [
      "enter work (deposit,withdrawl): deposit\n",
      "enter amount to deposit: 19\n"
     ]
    },
    {
     "name": "stdout",
     "output_type": "stream",
     "text": [
      "total balance: 10019\n"
     ]
    }
   ],
   "source": [
    "#MINIATM\n",
    "def deposit_atm(balance,amount_deposit):\n",
    "    balance+=amount_deposit\n",
    "    print(\"total balance:\",balance)\n",
    "\n",
    "def withdrawl_atm(balance,amount_withdrwal):\n",
    "    balance-=amount_withdrwal\n",
    "    print(\"total balance:\",balance)\n",
    "\n",
    "balance=10000\n",
    "select_work=str(input(\"enter work (deposit,withdrawl):\"))\n",
    "if select_work==\"deposit\":\n",
    "    amount_deposit=int(input(\"enter amount to deposit:\"))\n",
    "    deposit_atm(balance,amount_deposit)\n",
    "    \n",
    "\n",
    "elif select_work==\"withdrawl\":\n",
    "    amount_withdrawl=int(input(\"enter amount which withdrwal:\"))\n",
    "    withdrawl_atm(balance,amount_withdrawl)\n",
    "\n",
    "else:\n",
    "    print(\"enter valid function you want to perform\")"
   ]
  },
  {
   "cell_type": "code",
   "execution_count": null,
   "id": "1026d15a-ee06-44e2-9e3d-73ef9f6ca0ca",
   "metadata": {},
   "outputs": [],
   "source": []
  }
 ],
 "metadata": {
  "kernelspec": {
   "display_name": "Python [conda env:base] *",
   "language": "python",
   "name": "conda-base-py"
  },
  "language_info": {
   "codemirror_mode": {
    "name": "ipython",
    "version": 3
   },
   "file_extension": ".py",
   "mimetype": "text/x-python",
   "name": "python",
   "nbconvert_exporter": "python",
   "pygments_lexer": "ipython3",
   "version": "3.13.5"
  }
 },
 "nbformat": 4,
 "nbformat_minor": 5
}
