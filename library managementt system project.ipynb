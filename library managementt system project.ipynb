{
 "cells": [
  {
   "cell_type": "code",
   "execution_count": null,
   "id": "6e6610b9-d2c8-44a0-bb70-7c509f571ce2",
   "metadata": {},
   "outputs": [],
   "source": [
    "#library management system"
   ]
  },
  {
   "cell_type": "code",
   "execution_count": 21,
   "id": "d6b926f2-5275-4f55-a036-6630c311a2bd",
   "metadata": {},
   "outputs": [],
   "source": [
    "import sqlite3\n",
    "\n",
    "conn = sqlite3.connect(\"library.db\")\n",
    "cur = conn.cursor()\n",
    "\n",
    "cur.execute('''\n",
    "CREATE TABLE book(\n",
    "    book_id integer primary key AUTOINCREMENT,\n",
    "    title TEXT,\n",
    "    author TEXT,\n",
    "    available integer default 1\n",
    ")\n",
    "''')\n",
    "conn.commit()"
   ]
  },
  {
   "cell_type": "code",
   "execution_count": 22,
   "id": "99408c6e-16d9-4ef4-92b9-0ec100626e42",
   "metadata": {},
   "outputs": [
    {
     "name": "stdout",
     "output_type": "stream",
     "text": [
      "book added successfully.\n",
      "book added successfully.\n",
      "book added successfully.\n",
      "book added successfully.\n"
     ]
    }
   ],
   "source": [
    "def add_book(title, author):\n",
    "    cur.execute(\"insert into  book (title,author) VALUES (?, ?)\", (title,author))\n",
    "    conn.commit()\n",
    "    print(\"book added successfully.\")\n",
    "\n",
    "add_book(\"The Sealed Nectar\",\"Safi-ur-Rahman\")\n",
    "add_book(\"Wings of Fire\",\"Dr. A.P.J. Abdul Kalam\")\n",
    "add_book(\"The Discovery of India\",\"Pandit Jawaharlal Nehru\")\n",
    "add_book(\"Atomic Habits\",\"James Clear\")"
   ]
  },
  {
   "cell_type": "code",
   "execution_count": 23,
   "id": "8d276e01-83bf-41b0-b967-09de1bf53537",
   "metadata": {},
   "outputs": [],
   "source": [
    "def show_books():\n",
    "    cur.execute(\"select book_id, title, author FROM book where available = 1\")\n",
    "    books = cur.fetchall()\n",
    "\n",
    "    print(\"\\nBooks available:\")\n",
    "    if books:\n",
    "        for book in books:\n",
    "            print(f\"{book[0]}. {book[1]} by {book[2]}\")\n",
    "    else:\n",
    "        print(\"No books available at the moment.\")"
   ]
  },
  {
   "cell_type": "code",
   "execution_count": 24,
   "id": "62d1cd08-316f-4fff-8dd3-512e94a45820",
   "metadata": {},
   "outputs": [],
   "source": [
    "def issue_book(book_id):\n",
    "    cur.execute(\"select title, available from book where book_id = ?\", (book_id,))\n",
    "    result = cur.fetchone()\n",
    "\n",
    "    if result:\n",
    "        title,isAvailable = result\n",
    "        if isAvailable:\n",
    "            cur.execute(\"update book Set available = 0 WHERE book_id = ?\", (book_id,))\n",
    "            conn.commit()\n",
    "            print(f\"Book issued: {title}\")\n",
    "        else:\n",
    "            print(\"This book is already issued.\")\n",
    "    else:\n",
    "        print(\"Book not found.\")"
   ]
  },
  {
   "cell_type": "code",
   "execution_count": 25,
   "id": "ac2c6222-1114-4055-b98a-1ad03698a1ff",
   "metadata": {},
   "outputs": [],
   "source": [
    "def return_book(book_id):\n",
    "    cur.execute(\"select title, available from book where book_id = ?\", (book_id,))\n",
    "    result = cur.fetchone()\n",
    "\n",
    "    if result:\n",
    "        title, is_Available = result\n",
    "        if not is_Available:\n",
    "            cur.execute(\"update book Set available = 1 where book_id = ?\", (book_id,))\n",
    "            conn.commit()\n",
    "            print(f\"Book returned: {title}\")\n",
    "        else:\n",
    "            print(\"This book was not issued.\")\n",
    "    else:\n",
    "        print(\"Book  not found.\")"
   ]
  },
  {
   "cell_type": "code",
   "execution_count": 26,
   "id": "3aec6cb7-1277-42c0-87e2-75816fd91a53",
   "metadata": {},
   "outputs": [
    {
     "name": "stdout",
     "output_type": "stream",
     "text": [
      "\n",
      "Books available:\n",
      "1. The Sealed Nectar by Safi-ur-Rahman\n",
      "2. Wings of Fire by Dr. A.P.J. Abdul Kalam\n",
      "3. The Discovery of India by Pandit Jawaharlal Nehru\n",
      "4. Atomic Habits by James Clear\n"
     ]
    }
   ],
   "source": [
    "show_books()"
   ]
  },
  {
   "cell_type": "code",
   "execution_count": 27,
   "id": "18861c01-9b6b-45d1-822d-e9b9e42cae74",
   "metadata": {},
   "outputs": [
    {
     "name": "stdout",
     "output_type": "stream",
     "text": [
      "Book issued: The Sealed Nectar\n",
      "Book issued: The Discovery of India\n"
     ]
    }
   ],
   "source": [
    "issue_book(1)\n",
    "issue_book(3)"
   ]
  },
  {
   "cell_type": "code",
   "execution_count": 28,
   "id": "91d11518-225e-4d98-b5a6-eaac4046cc98",
   "metadata": {},
   "outputs": [
    {
     "name": "stdout",
     "output_type": "stream",
     "text": [
      "Book returned: The Discovery of India\n"
     ]
    }
   ],
   "source": [
    "return_book(3)"
   ]
  },
  {
   "cell_type": "code",
   "execution_count": 29,
   "id": "7cd8555b-57ab-4515-af75-74bee6f50529",
   "metadata": {},
   "outputs": [
    {
     "name": "stdout",
     "output_type": "stream",
     "text": [
      "\n",
      "Books available:\n",
      "2. Wings of Fire by Dr. A.P.J. Abdul Kalam\n",
      "3. The Discovery of India by Pandit Jawaharlal Nehru\n",
      "4. Atomic Habits by James Clear\n"
     ]
    }
   ],
   "source": [
    "show_books()"
   ]
  },
  {
   "cell_type": "code",
   "execution_count": 30,
   "id": "bceaf459-6c63-4f0d-ba24-472e9d069ade",
   "metadata": {},
   "outputs": [],
   "source": [
    "conn.close()"
   ]
  },
  {
   "cell_type": "code",
   "execution_count": null,
   "id": "8509c069-8ade-44b5-b874-28310d9ca7e3",
   "metadata": {},
   "outputs": [],
   "source": []
  }
 ],
 "metadata": {
  "kernelspec": {
   "display_name": "anaconda-ai-2024.04-py310",
   "language": "python",
   "name": "conda-env-anaconda-ai-2024.04-py310-py"
  },
  "language_info": {
   "codemirror_mode": {
    "name": "ipython",
    "version": 3
   },
   "file_extension": ".py",
   "mimetype": "text/x-python",
   "name": "python",
   "nbconvert_exporter": "python",
   "pygments_lexer": "ipython3",
   "version": "3.10.13"
  }
 },
 "nbformat": 4,
 "nbformat_minor": 5
}
