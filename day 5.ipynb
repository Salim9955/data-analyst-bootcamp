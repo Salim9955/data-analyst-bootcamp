{
 "cells": [
  {
   "cell_type": "code",
   "execution_count": 1,
   "id": "23c11d66-938a-4905-8e67-369921371015",
   "metadata": {},
   "outputs": [
    {
     "name": "stdout",
     "output_type": "stream",
     "text": [
      "[1, 11, 78, 90, 5]\n"
     ]
    }
   ],
   "source": [
    "lst=[1,11,78,90]\n",
    "lst.append(5)\n",
    "print(lst)"
   ]
  },
  {
   "cell_type": "code",
   "execution_count": 3,
   "id": "c32eecce-353d-43fa-8488-839f5a852145",
   "metadata": {},
   "outputs": [
    {
     "name": "stdout",
     "output_type": "stream",
     "text": [
      "[1, 8, 11, 78, 90]\n"
     ]
    }
   ],
   "source": [
    "lst=[1,11,78,90]\n",
    "lst.insert(1,8)\n",
    "print(lst)"
   ]
  },
  {
   "cell_type": "code",
   "execution_count": 6,
   "id": "61f36c67-15ca-48fc-934e-ef553fef73f8",
   "metadata": {},
   "outputs": [
    {
     "name": "stdout",
     "output_type": "stream",
     "text": [
      "[1, 11, 78, 90, 6, 20]\n"
     ]
    }
   ],
   "source": [
    "lst=[1,11,78,90]\n",
    "lst.extend([6,20])\n",
    "print(lst)"
   ]
  },
  {
   "cell_type": "code",
   "execution_count": 7,
   "id": "377961bb-db73-471b-967f-d9adfd176d60",
   "metadata": {},
   "outputs": [
    {
     "name": "stdout",
     "output_type": "stream",
     "text": [
      "[1, 11, 78]\n"
     ]
    }
   ],
   "source": [
    "lst=[1,11,78,90]\n",
    "lst.pop()\n",
    "print(lst)"
   ]
  },
  {
   "cell_type": "code",
   "execution_count": 8,
   "id": "059c301e-6ee7-469b-a46a-44ad2edebd1e",
   "metadata": {},
   "outputs": [
    {
     "name": "stdout",
     "output_type": "stream",
     "text": [
      "[1, 78, 90]\n"
     ]
    }
   ],
   "source": [
    "lst=[1,11,78,90]\n",
    "lst.remove(11)\n",
    "print(lst)"
   ]
  },
  {
   "cell_type": "code",
   "execution_count": 9,
   "id": "c19013a3-41fa-4487-bc60-0ad4baafbff5",
   "metadata": {},
   "outputs": [
    {
     "name": "stdout",
     "output_type": "stream",
     "text": [
      "[]\n"
     ]
    }
   ],
   "source": [
    "lst=[1,11,78,90]\n",
    "lst.clear()\n",
    "print(lst)"
   ]
  },
  {
   "cell_type": "code",
   "execution_count": 14,
   "id": "b2a19d49-1e46-437a-b32b-6c16a1c8f3cd",
   "metadata": {},
   "outputs": [
    {
     "data": {
      "text/plain": [
       "2"
      ]
     },
     "execution_count": 14,
     "metadata": {},
     "output_type": "execute_result"
    }
   ],
   "source": [
    "lst=[1,11,78,90]\n",
    "lst.index(78)\n"
   ]
  },
  {
   "cell_type": "code",
   "execution_count": 15,
   "id": "281edd0e-6f4a-47b0-9f17-fe4a8666580a",
   "metadata": {},
   "outputs": [
    {
     "data": {
      "text/plain": [
       "2"
      ]
     },
     "execution_count": 15,
     "metadata": {},
     "output_type": "execute_result"
    }
   ],
   "source": [
    "lst=[1,11,78,90,78]\n",
    "lst.count(78)"
   ]
  },
  {
   "cell_type": "code",
   "execution_count": 32,
   "id": "38f9ef58-6979-46dd-a77c-ad6ac9332246",
   "metadata": {},
   "outputs": [
    {
     "name": "stdout",
     "output_type": "stream",
     "text": [
      "[1, 9, 11, 78, 90]\n"
     ]
    }
   ],
   "source": [
    "lst=[9,1,11,78,90]\n",
    "lst.sort()\n",
    "print(lst)"
   ]
  },
  {
   "cell_type": "code",
   "execution_count": 37,
   "id": "311027d0-81aa-41b4-9409-b26ecced109d",
   "metadata": {},
   "outputs": [
    {
     "name": "stdout",
     "output_type": "stream",
     "text": [
      "[90, 78, 11, 1]\n"
     ]
    }
   ],
   "source": [
    "l=[1,11,78,90]\n",
    "l.sort(reverse=1)\n",
    "print(l)"
   ]
  },
  {
   "cell_type": "code",
   "execution_count": 30,
   "id": "45b75c74-8658-4acb-bdea-0c0d2aac92f9",
   "metadata": {},
   "outputs": [
    {
     "name": "stdout",
     "output_type": "stream",
     "text": [
      "[90, 78, 11, 1]\n"
     ]
    }
   ],
   "source": [
    "lst=[1,11,78,90]\n",
    "lst.reverse()\n",
    "print(lst)"
   ]
  },
  {
   "cell_type": "code",
   "execution_count": 38,
   "id": "2343fb24-6bf8-40ff-8d4f-b93efe63a8b0",
   "metadata": {},
   "outputs": [
    {
     "name": "stdout",
     "output_type": "stream",
     "text": [
      "[1, 11, 78, 90]\n"
     ]
    }
   ],
   "source": [
    "lst=[1,11,78,90]\n",
    "b=l.copy()\n",
    "print(lst)"
   ]
  },
  {
   "cell_type": "code",
   "execution_count": null,
   "id": "86871541-32e6-4c17-b1ff-f58522c01270",
   "metadata": {},
   "outputs": [],
   "source": [
    "//practice question"
   ]
  },
  {
   "cell_type": "code",
   "execution_count": 45,
   "id": "3bbf6a8b-b5dd-44cb-b08d-ee36ea48a838",
   "metadata": {},
   "outputs": [
    {
     "name": "stdin",
     "output_type": "stream",
     "text": [
      "enter value:  5\n"
     ]
    },
    {
     "name": "stdout",
     "output_type": "stream",
     "text": [
      "[5]\n"
     ]
    },
    {
     "name": "stdin",
     "output_type": "stream",
     "text": [
      "enter value:  6\n"
     ]
    },
    {
     "name": "stdout",
     "output_type": "stream",
     "text": [
      "[5, 6]\n"
     ]
    },
    {
     "name": "stdin",
     "output_type": "stream",
     "text": [
      "enter value:  8\n"
     ]
    },
    {
     "name": "stdout",
     "output_type": "stream",
     "text": [
      "[5, 6, 8]\n"
     ]
    },
    {
     "name": "stdin",
     "output_type": "stream",
     "text": [
      "enter value:  9\n"
     ]
    },
    {
     "name": "stdout",
     "output_type": "stream",
     "text": [
      "[5, 6, 8, 9]\n"
     ]
    },
    {
     "name": "stdin",
     "output_type": "stream",
     "text": [
      "enter value:  2\n"
     ]
    },
    {
     "name": "stdout",
     "output_type": "stream",
     "text": [
      "[5, 6, 8, 9, 2]\n"
     ]
    }
   ],
   "source": [
    "l=[]\n",
    "for num in range(5):\n",
    "    num=int(input(f\"enter value: \"))\n",
    "    l.append(num)\n",
    "    print(l)"
   ]
  },
  {
   "cell_type": "code",
   "execution_count": null,
   "id": "bf49b1af-5ffd-41dc-82e4-965b72abbe4c",
   "metadata": {},
   "outputs": [],
   "source": []
  }
 ],
 "metadata": {
  "kernelspec": {
   "display_name": "anaconda-ai-2024.04-py310",
   "language": "python",
   "name": "conda-env-anaconda-ai-2024.04-py310-py"
  },
  "language_info": {
   "codemirror_mode": {
    "name": "ipython",
    "version": 3
   },
   "file_extension": ".py",
   "mimetype": "text/x-python",
   "name": "python",
   "nbconvert_exporter": "python",
   "pygments_lexer": "ipython3",
   "version": "3.10.13"
  }
 },
 "nbformat": 4,
 "nbformat_minor": 5
}
