{
 "cells": [
  {
   "cell_type": "code",
   "execution_count": null,
   "id": "a2fe96e2-f12c-44af-b431-9f00f61789e7",
   "metadata": {},
   "outputs": [],
   "source": [
    "#atm major project"
   ]
  },
  {
   "cell_type": "code",
   "execution_count": 2,
   "id": "9850ce6e-2b51-468f-8e37-f21c6c5b863a",
   "metadata": {},
   "outputs": [],
   "source": [
    "import sqlite3\n",
    "\n",
    "# Database connection\n",
    "conn = sqlite3.connect(\"atm.db\")\n",
    "cur = conn.cursor()\n",
    "\n",
    "# Table create (run once)\n",
    "cur.execute('''\n",
    "CREATE TABLE IF NOT EXISTS accounts (\n",
    "    acc_no INTEGER PRIMARY KEY AUTOINCREMENT,\n",
    "    name TEXT,\n",
    "    pin TEXT,\n",
    "    balance REAL\n",
    ")\n",
    "''')\n",
    "conn.commit()\n"
   ]
  },
  {
   "cell_type": "code",
   "execution_count": 7,
   "id": "c84ed3d1-35ee-4154-9aad-da09d7667a85",
   "metadata": {},
   "outputs": [
    {
     "name": "stdout",
     "output_type": "stream",
     "text": [
      " Account created successfully!\n"
     ]
    }
   ],
   "source": [
    "def create_account(name, pin, balance,acc_no):\n",
    "    cur.execute(\"INSERT INTO accounts (name, pin, balance,acc_no) VALUES (?, ?, ?,?)\", (name, pin, balance,acc_no))\n",
    "    conn.commit()\n",
    "    print(\" Account created successfully!\")\n",
    "\n",
    "# Example\n",
    "create_account(\"salim\", \"1234\", 5000,\"0130\")"
   ]
  },
  {
   "cell_type": "code",
   "execution_count": 9,
   "id": "708aec0f-0482-4f48-9029-2eca23040e4f",
   "metadata": {},
   "outputs": [],
   "source": [
    "def login(acc_no, pin):\n",
    "    cur.execute(\"SELECT * FROM accounts WHERE acc_no=? AND pin=?\", (acc_no, pin))\n",
    "    user = cur.fetchone()\n",
    "    if user:\n",
    "        print(f\" Welcome {user[1]}!\")\n",
    "        return user\n",
    "    else:\n",
    "        print(\" Invalid account number or PIN.\")\n",
    "        return None"
   ]
  },
  {
   "cell_type": "code",
   "execution_count": 10,
   "id": "a7a4688f-018e-4453-9759-145b98630d53",
   "metadata": {},
   "outputs": [],
   "source": [
    "def check_balance(acc_no):\n",
    "    cur.execute(\"SELECT balance FROM accounts WHERE acc_no=?\", (acc_no,))\n",
    "    balance = cur.fetchone()[0]\n",
    "    print(f\"Current Balance: ₹{balance}\")"
   ]
  },
  {
   "cell_type": "code",
   "execution_count": 11,
   "id": "fd292db4-384d-46e6-8101-6c122b8513e1",
   "metadata": {},
   "outputs": [],
   "source": [
    "def deposit(acc_no, amount):\n",
    "    cur.execute(\"UPDATE accounts SET balance = balance + ? WHERE acc_no=?\", (amount, acc_no))\n",
    "    conn.commit()\n",
    "    print(f\" ₹{amount} deposited successfully.\")\n"
   ]
  },
  {
   "cell_type": "code",
   "execution_count": 12,
   "id": "f0b7e3ef-86a0-47be-9302-722da681c195",
   "metadata": {},
   "outputs": [],
   "source": [
    "def withdraw(acc_no, amount):\n",
    "    cur.execute(\"SELECT balance FROM accounts WHERE acc_no=?\", (acc_no,))\n",
    "    current_balance = cur.fetchone()[0]\n",
    "\n",
    "    if amount > current_balance:\n",
    "        print(\" Insufficient balance!\")\n",
    "    else:\n",
    "        cur.execute(\"UPDATE accounts SET balance = balance - ? WHERE acc_no=?\", (amount, acc_no))\n",
    "        conn.commit()\n",
    "        print(f\" ₹{amount} withdrawn successfully.\")"
   ]
  },
  {
   "cell_type": "code",
   "execution_count": 13,
   "id": "e33fb51d-6a6a-4a09-ae65-8d651c0d0aea",
   "metadata": {},
   "outputs": [],
   "source": [
    "def atm_menu():\n",
    "    print(\"===== Welcome to Python ATM =====\")\n",
    "    acc_no = int(input(\"Enter Account Number: \"))\n",
    "    pin = input(\"Enter PIN: \")\n",
    "\n",
    "    user = login(acc_no, pin)\n",
    "    if not user:\n",
    "        return\n",
    "\n",
    "    while True:\n",
    "        print(\"\\n--- Menu ---\")\n",
    "        print(\"1. Check Balance\")\n",
    "        print(\"2. Deposit\")\n",
    "        print(\"3. Withdraw\")\n",
    "        print(\"4. Exit\")\n",
    "        choice = input(\"Enter your choice: \")\n",
    "\n",
    "        if choice == '1':\n",
    "            check_balance(acc_no)\n",
    "        elif choice == '2':\n",
    "            amt = float(input(\"Enter amount to deposit: ₹\"))\n",
    "            deposit(acc_no, amt)\n",
    "        elif choice == '3':\n",
    "            amt = float(input(\"Enter amount to withdraw: ₹\"))\n",
    "            withdraw(acc_no, amt)\n",
    "        elif choice == '4':\n",
    "            print(\" Thank you for using the ATM. Bye!\")\n",
    "            break\n",
    "        else:\n",
    "            print(\"Invalid choice.\")"
   ]
  },
  {
   "cell_type": "code",
   "execution_count": 15,
   "id": "a4fbe7fe-7b6c-4313-be43-8c00a59a4b8d",
   "metadata": {},
   "outputs": [
    {
     "name": "stdout",
     "output_type": "stream",
     "text": [
      "===== Welcome to Python ATM =====\n"
     ]
    },
    {
     "name": "stdin",
     "output_type": "stream",
     "text": [
      "Enter Account Number:  0130\n",
      "Enter PIN:  1234\n"
     ]
    },
    {
     "name": "stdout",
     "output_type": "stream",
     "text": [
      " Welcome salim!\n",
      "\n",
      "--- Menu ---\n",
      "1. Check Balance\n",
      "2. Deposit\n",
      "3. Withdraw\n",
      "4. Exit\n"
     ]
    },
    {
     "name": "stdin",
     "output_type": "stream",
     "text": [
      "Enter your choice:  1\n"
     ]
    },
    {
     "name": "stdout",
     "output_type": "stream",
     "text": [
      "Current Balance: ₹5000.0\n",
      "\n",
      "--- Menu ---\n",
      "1. Check Balance\n",
      "2. Deposit\n",
      "3. Withdraw\n",
      "4. Exit\n"
     ]
    },
    {
     "name": "stdin",
     "output_type": "stream",
     "text": [
      "Enter your choice:  2\n",
      "Enter amount to deposit: ₹ 1000\n"
     ]
    },
    {
     "name": "stdout",
     "output_type": "stream",
     "text": [
      " ₹1000.0 deposited successfully.\n",
      "\n",
      "--- Menu ---\n",
      "1. Check Balance\n",
      "2. Deposit\n",
      "3. Withdraw\n",
      "4. Exit\n"
     ]
    },
    {
     "name": "stdin",
     "output_type": "stream",
     "text": [
      "Enter your choice:  3\n",
      "Enter amount to withdraw: ₹ 1000\n"
     ]
    },
    {
     "name": "stdout",
     "output_type": "stream",
     "text": [
      " ₹1000.0 withdrawn successfully.\n",
      "\n",
      "--- Menu ---\n",
      "1. Check Balance\n",
      "2. Deposit\n",
      "3. Withdraw\n",
      "4. Exit\n"
     ]
    },
    {
     "name": "stdin",
     "output_type": "stream",
     "text": [
      "Enter your choice:  4\n"
     ]
    },
    {
     "name": "stdout",
     "output_type": "stream",
     "text": [
      " Thank you for using the ATM. Bye!\n"
     ]
    }
   ],
   "source": [
    "atm_menu()"
   ]
  },
  {
   "cell_type": "code",
   "execution_count": 16,
   "id": "27f00bd5-de36-4eaa-9583-529da48e6384",
   "metadata": {},
   "outputs": [],
   "source": [
    "conn.close()"
   ]
  },
  {
   "cell_type": "code",
   "execution_count": null,
   "id": "3f8bda81-89dd-48c9-a856-1108482493f8",
   "metadata": {},
   "outputs": [],
   "source": []
  }
 ],
 "metadata": {
  "kernelspec": {
   "display_name": "Python [conda env:base] *",
   "language": "python",
   "name": "conda-base-py"
  },
  "language_info": {
   "codemirror_mode": {
    "name": "ipython",
    "version": 3
   },
   "file_extension": ".py",
   "mimetype": "text/x-python",
   "name": "python",
   "nbconvert_exporter": "python",
   "pygments_lexer": "ipython3",
   "version": "3.13.5"
  }
 },
 "nbformat": 4,
 "nbformat_minor": 5
}
