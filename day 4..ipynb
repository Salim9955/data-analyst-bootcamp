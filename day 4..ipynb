{
 "cells": [
  {
   "cell_type": "code",
   "execution_count": 1,
   "id": "71db7988-fc59-4b53-9c00-d9aa754a46c3",
   "metadata": {},
   "outputs": [
    {
     "name": "stdout",
     "output_type": "stream",
     "text": [
      "30.0\n"
     ]
    }
   ],
   "source": [
    "def SI(p,r,t):\n",
    "    si=(p*r*t)/100\n",
    "    print(si)\n",
    "SI(100,10,3)"
   ]
  },
  {
   "cell_type": "code",
   "execution_count": 2,
   "id": "b9d8bea7-ecaf-4753-bb6d-bc19bdd707e5",
   "metadata": {},
   "outputs": [
    {
     "name": "stdout",
     "output_type": "stream",
     "text": [
      "1275\n"
     ]
    }
   ],
   "source": [
    "def sum(a,b):\n",
    "    sum=0\n",
    "    for i in range(a,b+1):\n",
    "        sum+=i\n",
    "    print(sum)\n",
    "sum(1,50)"
   ]
  },
  {
   "cell_type": "code",
   "execution_count": 4,
   "id": "c311064a-0157-4f5c-a90b-f2e4808483ba",
   "metadata": {},
   "outputs": [
    {
     "name": "stdin",
     "output_type": "stream",
     "text": [
      "Enter a number: 5\n"
     ]
    },
    {
     "name": "stdout",
     "output_type": "stream",
     "text": [
      "5x1=5\n",
      "5x2=10\n",
      "5x3=15\n",
      "5x4=20\n",
      "5x5=25\n",
      "5x6=30\n",
      "5x7=35\n",
      "5x8=40\n",
      "5x9=45\n",
      "5x10=50\n"
     ]
    }
   ],
   "source": [
    "def table():\n",
    "    n=int(input(\"Enter a number:\"))\n",
    "    for i in range(1,11):\n",
    "        print(f\"{n}x{i}={n * i}\")\n",
    "table()"
   ]
  },
  {
   "cell_type": "code",
   "execution_count": 5,
   "id": "e5dd7c23-5a95-431d-9887-a69b93ca9845",
   "metadata": {},
   "outputs": [
    {
     "name": "stdout",
     "output_type": "stream",
     "text": [
      "625\n"
     ]
    }
   ],
   "source": [
    "def sum_odd(a,b):\n",
    "    sum=0\n",
    "    for i in range(a,b+1):\n",
    "        if i%2!=0:\n",
    "            sum+=i\n",
    "    print(sum)\n",
    "sum_odd(1,50)"
   ]
  },
  {
   "cell_type": "code",
   "execution_count": 6,
   "id": "3d87e9a1-f338-40a7-82f1-f930a5ad22bc",
   "metadata": {},
   "outputs": [
    {
     "name": "stdout",
     "output_type": "stream",
     "text": [
      "16\n",
      "22\n"
     ]
    }
   ],
   "source": [
    "def outer(a,b):\n",
    "    c=a+b\n",
    "    print(c)\n",
    "    def inner(a,b):\n",
    "        print(a*b)\n",
    "    inner(11,2)\n",
    "outer(10,6)"
   ]
  },
  {
   "cell_type": "code",
   "execution_count": 7,
   "id": "ca9c23c1-6253-43d5-97ec-aaa120eac106",
   "metadata": {},
   "outputs": [
    {
     "name": "stdin",
     "output_type": "stream",
     "text": [
      "Enter a number 5\n"
     ]
    },
    {
     "name": "stdout",
     "output_type": "stream",
     "text": [
      "120\n"
     ]
    }
   ],
   "source": [
    "def factorial(n):\n",
    "    if n==1:\n",
    "        return 1\n",
    "    return n*factorial(n-1)\n",
    "n=int(input(\"Enter a number\"))\n",
    "print(factorial(n))"
   ]
  },
  {
   "cell_type": "code",
   "execution_count": 8,
   "id": "7d1cb0e1-2830-4c16-9742-c14cc9a837db",
   "metadata": {},
   "outputs": [
    {
     "name": "stdin",
     "output_type": "stream",
     "text": [
      "Enter a string: salim\n"
     ]
    },
    {
     "name": "stdout",
     "output_type": "stream",
     "text": [
      "milas\n"
     ]
    }
   ],
   "source": [
    "def reverse(word):\n",
    "    print(word[::-1])\n",
    "str=str(input(\"Enter a string:\"))\n",
    "reverse(str)"
   ]
  },
  {
   "cell_type": "code",
   "execution_count": 9,
   "id": "d4f1e514-9851-4e9b-a1b9-008b499f8d1b",
   "metadata": {},
   "outputs": [
    {
     "name": "stdin",
     "output_type": "stream",
     "text": [
      "Enter First Number: 2\n",
      "Enter Second Number: 0\n"
     ]
    },
    {
     "name": "stdout",
     "output_type": "stream",
     "text": [
      "Error: Cannot divide by zero\n",
      "Program ended. Thank You!\n"
     ]
    }
   ],
   "source": [
    "try:\n",
    "    num1=int(input(\"Enter First Number:\"))\n",
    "    num2=int(input(\"Enter Second Number:\"))\n",
    "    result=num1/num2\n",
    "except ZeroDivisionError:\n",
    "    print(\"Error: Cannot divide by zero\")\n",
    "except ValueError:\n",
    "    print(\"Error: Please enter valid integers only!\")\n",
    "else:\n",
    "    print(\"Result is:\",result)\n",
    "finally:\n",
    "    print(\"Program ended. Thank You!\")"
   ]
  },
  {
   "cell_type": "code",
   "execution_count": 10,
   "id": "27bcc3e4-c712-4333-a5ca-919033d91894",
   "metadata": {},
   "outputs": [
    {
     "name": "stdin",
     "output_type": "stream",
     "text": [
      "Enter a number 5\n"
     ]
    },
    {
     "data": {
      "text/plain": [
       "25"
      ]
     },
     "execution_count": 10,
     "metadata": {},
     "output_type": "execute_result"
    }
   ],
   "source": [
    "def square(n):\n",
    "    return n*n\n",
    "n=int(input(\"Enter a number\"))\n",
    "square(n)"
   ]
  },
  {
   "cell_type": "code",
   "execution_count": 11,
   "id": "bb70139b-04cc-47de-9e48-38374f3fa09b",
   "metadata": {},
   "outputs": [
    {
     "name": "stdin",
     "output_type": "stream",
     "text": [
      "Enter first number: 2\n",
      "Enter second number: 3\n"
     ]
    },
    {
     "data": {
      "text/plain": [
       "5"
      ]
     },
     "execution_count": 11,
     "metadata": {},
     "output_type": "execute_result"
    }
   ],
   "source": [
    "def add(a,b):\n",
    "    res=a+b\n",
    "    return res\n",
    "num1=int(input(\"Enter first number:\"))\n",
    "num2=int(input(\"Enter second number:\"))\n",
    "add(num1,num2)"
   ]
  },
  {
   "cell_type": "code",
   "execution_count": 12,
   "id": "21639c0c-ee65-4e0a-8828-97e62986a0e3",
   "metadata": {},
   "outputs": [
    {
     "name": "stdin",
     "output_type": "stream",
     "text": [
      "Enter a number 2\n"
     ]
    },
    {
     "name": "stdout",
     "output_type": "stream",
     "text": [
      "2 is even\n"
     ]
    }
   ],
   "source": [
    "def even(n):\n",
    "    if n%2==0:\n",
    "        print(n,\"is even\")\n",
    "    else:\n",
    "        print(n,\"is odd\")\n",
    "n=int(input(\"Enter a number\"))\n",
    "even(n)"
   ]
  },
  {
   "cell_type": "code",
   "execution_count": 13,
   "id": "096ef278-e91a-4d52-b068-7f9ac2b9ef3d",
   "metadata": {},
   "outputs": [
    {
     "name": "stdin",
     "output_type": "stream",
     "text": [
      "Enter a number 5\n"
     ]
    },
    {
     "name": "stdout",
     "output_type": "stream",
     "text": [
      "120\n"
     ]
    }
   ],
   "source": [
    "def factorial(n):\n",
    "    if n==1:\n",
    "        return 1\n",
    "    return n*factorial(n-1)\n",
    "n=int(input(\"Enter a number\"))\n",
    "print(factorial(n))"
   ]
  },
  {
   "cell_type": "code",
   "execution_count": 14,
   "id": "7129b346-3983-4800-8a83-81db3ffd962e",
   "metadata": {},
   "outputs": [
    {
     "data": {
      "text/plain": [
       "function"
      ]
     },
     "execution_count": 14,
     "metadata": {},
     "output_type": "execute_result"
    }
   ],
   "source": [
    "type(lambda x: x)"
   ]
  },
  {
   "cell_type": "code",
   "execution_count": 15,
   "id": "ce11622d-d6d1-4b0a-8768-fea13aa5789f",
   "metadata": {},
   "outputs": [
    {
     "name": "stdout",
     "output_type": "stream",
     "text": [
      "None\n"
     ]
    }
   ],
   "source": [
    "def foo(): \n",
    "    pass\n",
    "print(foo())"
   ]
  },
  {
   "cell_type": "code",
   "execution_count": 16,
   "id": "a3c08b57-bde5-478c-b256-13f4141d0f3b",
   "metadata": {},
   "outputs": [
    {
     "data": {
      "text/plain": [
       "3"
      ]
     },
     "execution_count": 16,
     "metadata": {},
     "output_type": "execute_result"
    }
   ],
   "source": [
    "len([1, 2, 3])\n"
   ]
  },
  {
   "cell_type": "code",
   "execution_count": 17,
   "id": "6007862e-6101-4358-916d-3cfe318cffa7",
   "metadata": {},
   "outputs": [
    {
     "data": {
      "text/plain": [
       "11"
      ]
     },
     "execution_count": 17,
     "metadata": {},
     "output_type": "execute_result"
    }
   ],
   "source": [
    "def foo(a, b=1): \n",
    "    return a+b\n",
    "foo(10)"
   ]
  },
  {
   "cell_type": "code",
   "execution_count": 18,
   "id": "fd9f17a3-a586-4b1b-ba8d-cfc65560ff1e",
   "metadata": {},
   "outputs": [
    {
     "data": {
      "text/plain": [
       "True"
      ]
     },
     "execution_count": 18,
     "metadata": {},
     "output_type": "execute_result"
    }
   ],
   "source": [
    "bool('1')"
   ]
  },
  {
   "cell_type": "code",
   "execution_count": 19,
   "id": "060cb4fd-0355-4fec-957c-e6b7cabd0438",
   "metadata": {},
   "outputs": [
    {
     "name": "stdout",
     "output_type": "stream",
     "text": [
      "11\n"
     ]
    }
   ],
   "source": [
    "def largest(lst):\n",
    "    largest=lst[0]\n",
    "    for i in lst[1:]:\n",
    "        if i>largest:\n",
    "            largest=i\n",
    "    print(largest)\n",
    "lst=[2,5,1,11,8]\n",
    "largest(lst)"
   ]
  },
  {
   "cell_type": "code",
   "execution_count": 20,
   "id": "426cfb18-3d36-4d9e-bb36-a8efa4e771f0",
   "metadata": {},
   "outputs": [
    {
     "name": "stdin",
     "output_type": "stream",
     "text": [
      "Enter a number 3\n"
     ]
    },
    {
     "name": "stdout",
     "output_type": "stream",
     "text": [
      "[0, 1, 1]\n"
     ]
    }
   ],
   "source": [
    "def fibonacci(n):\n",
    "    if n<=0:\n",
    "        print(\"None\")\n",
    "    elif n==1:\n",
    "        print(0)\n",
    "    lst=[0,1]\n",
    "    while len(lst)<n:\n",
    "        next=lst[-1]+lst[-2]\n",
    "        lst.append(next)\n",
    "    print(lst)\n",
    "n=int(input(\"Enter a number\"))\n",
    "fibonacci(n)"
   ]
  },
  {
   "cell_type": "code",
   "execution_count": 27,
   "id": "15568049-e131-489a-a1c9-fbeac3d522e4",
   "metadata": {},
   "outputs": [
    {
     "name": "stdin",
     "output_type": "stream",
     "text": [
      "Enter String salim\n"
     ]
    },
    {
     "name": "stdout",
     "output_type": "stream",
     "text": [
      "2\n"
     ]
    }
   ],
   "source": [
    "def count_vowels(x):\n",
    "    vowels=\"aeiouAEIOU\"\n",
    "    count=0\n",
    "    for i in x:\n",
    "        if i in vowels:\n",
    "            count+=1\n",
    "    print(count)\n",
    "x=input(\"Enter String\")\n",
    "count_vowels(x)"
   ]
  },
  {
   "cell_type": "code",
   "execution_count": 28,
   "id": "4a269d2d-8013-456e-929c-3f67a144bc45",
   "metadata": {},
   "outputs": [
    {
     "name": "stdout",
     "output_type": "stream",
     "text": [
      "True\n",
      "False\n",
      "True\n"
     ]
    }
   ],
   "source": [
    "def is_palindrome(s):\n",
    "    cleaned = ''.join(c.lower() for c in s if c.isalnum())\n",
    "    return cleaned == cleaned[::-1]\n",
    "print(is_palindrome(\"Racecar\"))\n",
    "print(is_palindrome(\"Hello\"))\n",
    "print(is_palindrome(\"A man a plan a canal Panama\"))"
   ]
  },
  {
   "cell_type": "code",
   "execution_count": 30,
   "id": "7f03cdda-70e3-4a3c-b4ef-b410cc542237",
   "metadata": {},
   "outputs": [
    {
     "name": "stdin",
     "output_type": "stream",
     "text": [
      "Enter a String rar\n"
     ]
    },
    {
     "name": "stdout",
     "output_type": "stream",
     "text": [
      "True\n"
     ]
    }
   ],
   "source": [
    "def palindrome(word):\n",
    "    if word==word[::-1]:\n",
    "        print(\"True\")\n",
    "    else:\n",
    "        print(\"False\")\n",
    "str=input(\"Enter a String\")\n",
    "palindrome(str)"
   ]
  },
  {
   "cell_type": "code",
   "execution_count": null,
   "id": "192fdbe1-0d78-4620-a8ff-1c354561f1fd",
   "metadata": {},
   "outputs": [],
   "source": []
  }
 ],
 "metadata": {
  "kernelspec": {
   "display_name": "anaconda-ai-2024.04-py310",
   "language": "python",
   "name": "conda-env-anaconda-ai-2024.04-py310-py"
  },
  "language_info": {
   "codemirror_mode": {
    "name": "ipython",
    "version": 3
   },
   "file_extension": ".py",
   "mimetype": "text/x-python",
   "name": "python",
   "nbconvert_exporter": "python",
   "pygments_lexer": "ipython3",
   "version": "3.10.13"
  }
 },
 "nbformat": 4,
 "nbformat_minor": 5
}
