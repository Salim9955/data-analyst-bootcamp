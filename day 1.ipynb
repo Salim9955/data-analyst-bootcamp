{
 "cells": [
  {
   "cell_type": "code",
   "execution_count": null,
   "id": "fa8726a4-9175-46a9-b9ac-69820d373528",
   "metadata": {},
   "outputs": [],
   "source": [
    "1. arithmetic operator "
   ]
  },
  {
   "cell_type": "code",
   "execution_count": 1,
   "id": "5c2db61b-ec00-4585-9eb3-ed4a1bfd6aa0",
   "metadata": {},
   "outputs": [
    {
     "name": "stdin",
     "output_type": "stream",
     "text": [
      "enter your first number 20\n",
      "enter your second number 10\n",
      "enter operator (+,-,*,/,%): +\n"
     ]
    },
    {
     "name": "stdout",
     "output_type": "stream",
     "text": [
      "30\n"
     ]
    }
   ],
   "source": [
    "a=int(input(\"enter your first number\"))\n",
    "b=int(input(\"enter your second number\"))\n",
    "c=input(\"enter operator (+,-,*,/,%,//):\")\n",
    "if c == \"+\":\n",
    "    print(a+b)\n",
    "elif c == \"-\":\n",
    "    print(a-b)\n",
    "elif c==\"*\":\n",
    "    print(a*b)\n",
    "elif c== \"/\":\n",
    "    print(a/b)\n",
    "elif c==\"%\":\n",
    "    print(a%b)\n",
    "elif c==\"//\":\n",
    "    print(a//b)\n",
    "else :\n",
    "    print(\"invalid operator\") "
   ]
  },
  {
   "cell_type": "code",
   "execution_count": 1,
   "id": "87c31d13-f20a-472a-9a91-4f84066356d7",
   "metadata": {},
   "outputs": [
    {
     "name": "stdin",
     "output_type": "stream",
     "text": [
      "enter your first number 20\n",
      "enter your second number 10\n",
      "enter operator (+,-,*,/,%): +\n"
     ]
    },
    {
     "name": "stdout",
     "output_type": "stream",
     "text": [
      "30\n"
     ]
    }
   ],
   "source": [
    "a=int(input(\"enter your first number\"))\n",
    "b=int(input(\"enter your second number\"))\n",
    "c=input(\"enter operator (+,-,*,/,%,//):\")\n",
    "if c == \"+\":\n",
    "    print(a+b)\n",
    "elif c == \"-\":\n",
    "    print(a-b)\n",
    "elif c==\"*\":\n",
    "    print(a*b)\n",
    "elif c== \"/\":\n",
    "    print(a/b)\n",
    "elif c==\"%\":\n",
    "    print(a%b)\n",
    "elif c==\"//\":\n",
    "    print(a//b)\n",
    "else :\n",
    "    print(\"invalid operator\") "
   ]
  },
  {
   "cell_type": "code",
   "execution_count": 1,
   "id": "7047e516-5334-4909-8523-0ae9c85f5e1d",
   "metadata": {},
   "outputs": [
    {
     "name": "stdin",
     "output_type": "stream",
     "text": [
      "enter your first number 20\n",
      "enter your second number 10\n",
      "enter operator (+,-,*,/,%): +\n"
     ]
    },
    {
     "name": "stdout",
     "output_type": "stream",
     "text": [
      "30\n"
     ]
    }
   ],
   "source": [
    "a=int(input(\"enter your first number\"))\n",
    "b=int(input(\"enter your second number\"))\n",
    "c=input(\"enter operator (+,-,*,/,%,//):\")\n",
    "if c == \"+\":\n",
    "    print(a+b)\n",
    "elif c == \"-\":\n",
    "    print(a-b)\n",
    "elif c==\"*\":\n",
    "    print(a*b)\n",
    "elif c== \"/\":\n",
    "    print(a/b)\n",
    "elif c==\"%\":\n",
    "    print(a%b)\n",
    "elif c==\"//\":\n",
    "    print(a//b)\n",
    "else :\n",
    "    print(\"invalid operator\") "
   ]
  },
  {
   "cell_type": "code",
   "execution_count": 1,
   "id": "5e9a8335-6e51-439b-aa3c-9d3a2b3f1822",
   "metadata": {},
   "outputs": [
    {
     "name": "stdin",
     "output_type": "stream",
     "text": [
      "enter your first number 20\n",
      "enter your second number 10\n",
      "enter operator (+,-,*,/,%): +\n"
     ]
    },
    {
     "name": "stdout",
     "output_type": "stream",
     "text": [
      "30\n"
     ]
    }
   ],
   "source": [
    "a=int(input(\"enter your first number\"))\n",
    "b=int(input(\"enter your second number\"))\n",
    "c=input(\"enter operator (+,-,*,/,%,//):\")\n",
    "if c == \"+\":\n",
    "    print(a+b)\n",
    "elif c == \"-\":\n",
    "    print(a-b)\n",
    "elif c==\"*\":\n",
    "    print(a*b)\n",
    "elif c== \"/\":\n",
    "    print(a/b)\n",
    "elif c==\"%\":\n",
    "    print(a%b)\n",
    "elif c==\"//\":\n",
    "    print(a//b)\n",
    "else :\n",
    "    print(\"invalid operator\") "
   ]
  },
  {
   "cell_type": "code",
   "execution_count": null,
   "id": "ae40a333-3cdb-4ccc-a192-dcdc7f1cb390",
   "metadata": {},
   "outputs": [],
   "source": []
  },
  {
   "cell_type": "code",
   "execution_count": null,
   "id": "9b53058a-1fe7-4841-9dfe-8a88429a86aa",
   "metadata": {},
   "outputs": [],
   "source": [
    "2. assignment operator"
   ]
  },
  {
   "cell_type": "code",
   "execution_count": 2,
   "id": "5062f8b0-c867-43bb-a27a-5a1226caa535",
   "metadata": {},
   "outputs": [
    {
     "name": "stdout",
     "output_type": "stream",
     "text": [
      "10\n"
     ]
    }
   ],
   "source": [
    "x=5\n",
    "x+=5\n",
    "print(x)"
   ]
  },
  {
   "cell_type": "code",
   "execution_count": null,
   "id": "fdbf917b-a64f-4c35-b0fb-80ba2abdc45a",
   "metadata": {},
   "outputs": [],
   "source": []
  },
  {
   "cell_type": "code",
   "execution_count": null,
   "id": "ac5f272b-f58e-414b-91b5-241b53430f2e",
   "metadata": {},
   "outputs": [],
   "source": [
    "3. comparision operator"
   ]
  },
  {
   "cell_type": "code",
   "execution_count": 5,
   "id": "455dfe4e-a638-4052-82b8-d80789cf1117",
   "metadata": {},
   "outputs": [
    {
     "name": "stdout",
     "output_type": "stream",
     "text": [
      "True\n",
      "True\n",
      "False\n",
      "False\n",
      "True\n",
      "False\n"
     ]
    }
   ],
   "source": [
    "x=5\n",
    "y=6\n",
    "print(x<y)\n",
    "print(x<=y)\n",
    "print(x>y)\n",
    "print(x>=y)\n",
    "print(x!=y)\n",
    "print(x==y)"
   ]
  },
  {
   "cell_type": "code",
   "execution_count": null,
   "id": "8f7d37fb-bf83-4f02-a54a-ca5d3fad78d6",
   "metadata": {},
   "outputs": [],
   "source": []
  },
  {
   "cell_type": "code",
   "execution_count": null,
   "id": "0e5682f2-90d9-4b89-be0b-55907e8df195",
   "metadata": {},
   "outputs": [],
   "source": [
    "4. logical operator"
   ]
  },
  {
   "cell_type": "code",
   "execution_count": 8,
   "id": "ba16e09a-2427-469d-a9bb-9df59ac4ea57",
   "metadata": {},
   "outputs": [
    {
     "name": "stdout",
     "output_type": "stream",
     "text": [
      "True\n",
      "True\n",
      "False\n"
     ]
    }
   ],
   "source": [
    "x=6\n",
    "print(x>3 and x<9)\n",
    "print(x>3 or x<5)\n",
    "print(not(x>3 and x<9))"
   ]
  },
  {
   "cell_type": "code",
   "execution_count": null,
   "id": "58dcb956-e982-481f-9504-5ddab70512b2",
   "metadata": {},
   "outputs": [],
   "source": []
  },
  {
   "cell_type": "code",
   "execution_count": null,
   "id": "ca11ee46-dd22-4f0a-969f-877e5795e291",
   "metadata": {},
   "outputs": [],
   "source": [
    "5. membership operator"
   ]
  },
  {
   "cell_type": "code",
   "execution_count": 10,
   "id": "120241d1-1258-4eea-8be2-f91bd66fadc3",
   "metadata": {},
   "outputs": [
    {
     "name": "stdout",
     "output_type": "stream",
     "text": [
      "cherry in the list\n",
      "mango not in list\n"
     ]
    }
   ],
   "source": [
    "fruits=[\"apple\",\"banana\",\"cherry\",\"Pineapple\"]\n",
    "x=\"cherry\"\n",
    "if x in fruits:\n",
    "    print(\"cherry in the list\")\n",
    "y=\"mango\"\n",
    "if y not in fruits:\n",
    "    print(\"mango not in list\")"
   ]
  },
  {
   "cell_type": "code",
   "execution_count": null,
   "id": "8ccc067b-efab-43d1-aabc-0d56e1b651d9",
   "metadata": {},
   "outputs": [],
   "source": []
  },
  {
   "cell_type": "code",
   "execution_count": null,
   "id": "8bf89b25-3302-4351-99d3-bb0543f43223",
   "metadata": {},
   "outputs": [],
   "source": [
    "6. identity operator"
   ]
  },
  {
   "cell_type": "code",
   "execution_count": 11,
   "id": "fcb4d519-5fb3-4411-9778-c9047412ad6c",
   "metadata": {},
   "outputs": [
    {
     "name": "stdout",
     "output_type": "stream",
     "text": [
      "False\n",
      "True\n"
     ]
    }
   ],
   "source": [
    "x = [\"apple\", \"banana\"]\n",
    "y = [\"apple\", \"banana\"]\n",
    "print (x is y)\n",
    "print (x is not y)"
   ]
  },
  {
   "cell_type": "code",
   "execution_count": null,
   "id": "dbac16b6-c6da-4dc7-977a-4e71cffdf8ff",
   "metadata": {},
   "outputs": [],
   "source": []
  },
  {
   "cell_type": "code",
   "execution_count": null,
   "id": "8d5c11f0-7245-41c3-a87e-6afe82163bc8",
   "metadata": {},
   "outputs": [],
   "source": [
    "7. bitwise operator"
   ]
  },
  {
   "cell_type": "code",
   "execution_count": 15,
   "id": "065e0a81-14c7-4df0-a20a-a7577606f821",
   "metadata": {},
   "outputs": [
    {
     "name": "stdout",
     "output_type": "stream",
     "text": [
      "0\n",
      "7\n",
      "5\n",
      "-4\n"
     ]
    }
   ],
   "source": [
    "print(9 & 4)\n",
    "print(6 | 5)\n",
    "print(6 ^ 3)\n",
    "print(~3)"
   ]
  },
  {
   "cell_type": "code",
   "execution_count": 1,
   "id": "40d7a347-a5c5-42f8-ad14-6f86f1d5b575",
   "metadata": {},
   "outputs": [],
   "source": [
    "password=\"type123\"\n",
    "attempts=3\n",
    "while attempts>3:\n",
    "    user_input=input(\"enter password\")\n",
    "    if user_input==password:\n",
    "        print(\"accese granted\")\n",
    "        break\n",
    "    else:\n",
    "            attempts-=1\n",
    "            print(f\"wrong password! {attempts} attempt left\")"
   ]
  },
  {
   "cell_type": "code",
   "execution_count": null,
   "id": "90ccdb96-9851-4f17-bbe4-8e79427c377b",
   "metadata": {},
   "outputs": [],
   "source": []
  }
 ],
 "metadata": {
  "kernelspec": {
   "display_name": "anaconda-2024.02-py310",
   "language": "python",
   "name": "conda-env-anaconda-2024.02-py310-py"
  },
  "language_info": {
   "codemirror_mode": {
    "name": "ipython",
    "version": 3
   },
   "file_extension": ".py",
   "mimetype": "text/x-python",
   "name": "python",
   "nbconvert_exporter": "python",
   "pygments_lexer": "ipython3",
   "version": "3.10.14"
  }
 },
 "nbformat": 4,
 "nbformat_minor": 5
}
