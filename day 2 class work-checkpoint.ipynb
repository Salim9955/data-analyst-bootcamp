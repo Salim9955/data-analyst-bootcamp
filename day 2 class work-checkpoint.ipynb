{
 "cells": [
  {
   "cell_type": "code",
   "execution_count": 1,
   "id": "c3da5302-ecf0-489d-93e6-38b41a3b37a4",
   "metadata": {},
   "outputs": [
    {
     "name": "stdout",
     "output_type": "stream",
     "text": [
      "<class 'float'>\n"
     ]
    }
   ],
   "source": [
    "x=10\n",
    "y=float(x)\n",
    "print(type(y))"
   ]
  },
  {
   "cell_type": "code",
   "execution_count": 2,
   "id": "f26914ba-120e-4672-8778-78f629e5b85c",
   "metadata": {},
   "outputs": [
    {
     "name": "stdout",
     "output_type": "stream",
     "text": [
      "<class 'float'>\n"
     ]
    }
   ],
   "source": [
    "a=10\n",
    "b=10.5\n",
    "print(type(a+b))"
   ]
  },
  {
   "cell_type": "code",
   "execution_count": 3,
   "id": "af7691de-2a16-49d1-aea1-43423f6de133",
   "metadata": {},
   "outputs": [
    {
     "name": "stdin",
     "output_type": "stream",
     "text": [
      "product name= milk\n",
      "quantity 3\n",
      "price of product 35\n"
     ]
    },
    {
     "name": "stdout",
     "output_type": "stream",
     "text": [
      "105.0\n"
     ]
    }
   ],
   "source": [
    "x=str(input(\"product name=\"))\n",
    "y=int(input(\"quantity\"))\n",
    "z=float(input(\"price of product\"))\n",
    "total=print(y*z)\n"
   ]
  },
  {
   "cell_type": "code",
   "execution_count": 4,
   "id": "ac6a144d-fb0a-4845-827b-5a9926030dfe",
   "metadata": {},
   "outputs": [
    {
     "data": {
      "text/plain": [
       "1"
      ]
     },
     "execution_count": 4,
     "metadata": {},
     "output_type": "execute_result"
    }
   ],
   "source": [
    "int(True)\n"
   ]
  },
  {
   "cell_type": "code",
   "execution_count": 5,
   "id": "0b9477ec-06fb-40a6-a0e5-dc1f0ef45b6d",
   "metadata": {},
   "outputs": [
    {
     "name": "stdout",
     "output_type": "stream",
     "text": [
      "False\n"
     ]
    }
   ],
   "source": [
    "x=0\n",
    "if x:\n",
    "    print(\"True\")\n",
    "else:\n",
    "    print(\"False\")"
   ]
  },
  {
   "cell_type": "code",
   "execution_count": 6,
   "id": "c47dbdf6-6d47-4b18-afc3-17daa0034dba",
   "metadata": {},
   "outputs": [
    {
     "data": {
      "text/plain": [
       "'123'"
      ]
     },
     "execution_count": 6,
     "metadata": {},
     "output_type": "execute_result"
    }
   ],
   "source": [
    "str(123)"
   ]
  },
  {
   "cell_type": "code",
   "execution_count": 7,
   "id": "459bea93-be15-4ff0-b337-f938161b592c",
   "metadata": {},
   "outputs": [
    {
     "name": "stdin",
     "output_type": "stream",
     "text": [
      "enter number 5\n"
     ]
    },
    {
     "name": "stdout",
     "output_type": "stream",
     "text": [
      "number is positive\n"
     ]
    }
   ],
   "source": [
    "x=int(input(\"enter number\"))\n",
    "if x>0:\n",
    "    print(\"number is positive\")\n",
    "else:\n",
    "    print(\"number is negative\")"
   ]
  },
  {
   "cell_type": "code",
   "execution_count": 8,
   "id": "a8e3dbdc-0ed9-41e5-afeb-d035d87c08bc",
   "metadata": {},
   "outputs": [
    {
     "name": "stdin",
     "output_type": "stream",
     "text": [
      "enter age 15\n"
     ]
    },
    {
     "name": "stdout",
     "output_type": "stream",
     "text": [
      "not eligibile for vote\n"
     ]
    }
   ],
   "source": [
    "age=int(input(\"enter age\"))\n",
    "if age>=18:\n",
    "    print(\"eligibile for vote\")\n",
    "else:\n",
    "    print(\"not eligibile for vote\")"
   ]
  },
  {
   "cell_type": "code",
   "execution_count": 9,
   "id": "f0055f5f-91d0-4858-8027-fcf0622a1147",
   "metadata": {},
   "outputs": [
    {
     "name": "stdin",
     "output_type": "stream",
     "text": [
      "enter string sahajada\n"
     ]
    },
    {
     "name": "stdout",
     "output_type": "stream",
     "text": [
      "lengrh is greater than 5\n"
     ]
    }
   ],
   "source": [
    "x=str(input(\"enter string\"))\n",
    "if len(x)>5:\n",
    "  print(\"lengrh is greater than 5\")\n",
    "else:\n",
    "    print(\"lengrh is not greater than 5\")"
   ]
  },
  {
   "cell_type": "code",
   "execution_count": 10,
   "id": "b1a1747a-c213-4d9b-89e4-2ecbe11ca7b8",
   "metadata": {},
   "outputs": [
    {
     "name": "stdin",
     "output_type": "stream",
     "text": [
      "enter month january\n"
     ]
    },
    {
     "name": "stdout",
     "output_type": "stream",
     "text": [
      "winter\n"
     ]
    }
   ],
   "source": [
    "x=str(input(\"enter month\"))\n",
    "if x==\"january\":\n",
    " print(\"winter\")\n",
    "elif x==\"feburary\":\n",
    "  print(\"winter\")\n",
    "elif x==\"march\":\n",
    "  print(\"summer\")\n",
    "elif x==\"april\":\n",
    "  print(\"summer\")\n",
    "elif x==\"may\":\n",
    "  print(\"summer\")\n",
    "elif x==\"june\":\n",
    "  print(\"summer\")\n",
    "elif x==\"july\":\n",
    "  print(\"winter\")\n",
    "elif x==\"august\":\n",
    "  print(\"rainy\")\n",
    "elif x==\"september\":\n",
    "  print(\"rainy\")\n",
    "elif x==\"october\":\n",
    "  print(\"rainy\")\n",
    "elif x==\"november\":\n",
    "  print(\"winter\")\n",
    "elif x==\"december\":\n",
    "  print(\"winter\")\n",
    "else:\n",
    " print(\"invalid month\")\n",
    "\n"
   ]
  },
  {
   "cell_type": "code",
   "execution_count": 11,
   "id": "91478c35-793c-4057-9a5b-6e48f17ccb77",
   "metadata": {},
   "outputs": [
    {
     "name": "stdin",
     "output_type": "stream",
     "text": [
      "enter month august\n"
     ]
    },
    {
     "name": "stdout",
     "output_type": "stream",
     "text": [
      "rainy season\n"
     ]
    }
   ],
   "source": [
    "month=str(input(\"enter month\"))\n",
    "if month in(\"january\",\"feburary\",\"november\",\"december\"):\n",
    "    print(\"winter season\")\n",
    "elif month in(\"march\",\"april\",\"may\",\"june\",\"july\"):\n",
    "    print(\"summer season\")\n",
    "elif month in(\"august\",\"september\",\"october\"):\n",
    "    print(\"rainy season\")\n",
    "else:\n",
    "    print(\"invalid result\")"
   ]
  },
  {
   "cell_type": "code",
   "execution_count": 12,
   "id": "03fad3d4-bcd4-439a-acfc-7ea02e5acc1a",
   "metadata": {},
   "outputs": [
    {
     "name": "stdin",
     "output_type": "stream",
     "text": [
      "enter vechile type car\n"
     ]
    },
    {
     "name": "stdout",
     "output_type": "stream",
     "text": [
      "car is expired in 20 year\n"
     ]
    }
   ],
   "source": [
    "vechile=str(input(\"enter vechile type\"))\n",
    "if vechile==\"car\":\n",
    "    print(\"car is expired in 20 year\")\n",
    "elif vechile==\"bike\":\n",
    "    print(\"bike is expired in 15 year\")\n",
    "else:\n",
    "    print(\"invalid output\")\n",
    "    "
   ]
  },
  {
   "cell_type": "code",
   "execution_count": 13,
   "id": "b4876d54-fcba-4e28-ad78-7058baa3a059",
   "metadata": {},
   "outputs": [],
   "source": [
    "x=4\n",
    "y=2\n",
    "if x>2:\n",
    "    if y>3:\n",
    "      print(\"a\")\n",
    "else:\n",
    "    print(\"c\")"
   ]
  },
  {
   "cell_type": "code",
   "execution_count": null,
   "id": "4c819413-ce60-4a3d-b62e-ac341240308f",
   "metadata": {},
   "outputs": [],
   "source": [
    "no result"
   ]
  },
  {
   "cell_type": "code",
   "execution_count": 15,
   "id": "ef953ddf-c3a6-4c5e-a03b-1a92e903ce3b",
   "metadata": {},
   "outputs": [
    {
     "name": "stdout",
     "output_type": "stream",
     "text": [
      "2\n",
      "4\n",
      "6\n",
      "8\n",
      "10\n",
      "12\n",
      "14\n",
      "16\n",
      "18\n",
      "20\n"
     ]
    }
   ],
   "source": [
    "i = 1\n",
    "while i<=10:\n",
    "    print(2*i)\n",
    "    i=i+1"
   ]
  },
  {
   "cell_type": "code",
   "execution_count": null,
   "id": "29bd7f0e-deef-4675-9f15-216afd716960",
   "metadata": {},
   "outputs": [],
   "source": []
  }
 ],
 "metadata": {
  "kernelspec": {
   "display_name": "Python [conda env:base] *",
   "language": "python",
   "name": "conda-base-py"
  },
  "language_info": {
   "codemirror_mode": {
    "name": "ipython",
    "version": 3
   },
   "file_extension": ".py",
   "mimetype": "text/x-python",
   "name": "python",
   "nbconvert_exporter": "python",
   "pygments_lexer": "ipython3",
   "version": "3.13.5"
  }
 },
 "nbformat": 4,
 "nbformat_minor": 5
}
