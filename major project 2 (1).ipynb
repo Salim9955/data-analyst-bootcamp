{
 "cells": [
  {
   "cell_type": "code",
   "execution_count": null,
   "id": "2c7575e5-9671-4c82-bcb9-1d48d7e982fd",
   "metadata": {},
   "outputs": [],
   "source": [
    "#shopping major projects"
   ]
  },
  {
   "cell_type": "code",
   "execution_count": 1,
   "id": "42079228-8c8d-429d-8cd5-3181c5119141",
   "metadata": {},
   "outputs": [],
   "source": [
    "import sqlite3\n",
    "\n",
    "conn = sqlite3.connect(\"billing.db\")\n",
    "cur = conn.cursor()\n",
    "\n",
    "# Product Table\n",
    "cur.execute('''\n",
    "CREATE TABLE IF NOT EXISTS products (\n",
    "    id INTEGER PRIMARY KEY AUTOINCREMENT,\n",
    "    name TEXT,\n",
    "    price REAL\n",
    ")\n",
    "''')\n",
    "\n",
    "# Cart Table\n",
    "cur.execute('''\n",
    "CREATE TABLE IF NOT EXISTS cart (\n",
    "    id INTEGER PRIMARY KEY AUTOINCREMENT,\n",
    "    product_id INTEGER,\n",
    "    quantity INTEGER\n",
    ")\n",
    "''')\n",
    "\n",
    "conn.commit()\n"
   ]
  },
  {
   "cell_type": "code",
   "execution_count": 2,
   "id": "09c9f69f-289e-4622-a9c5-5d43625dfbd4",
   "metadata": {},
   "outputs": [
    {
     "name": "stdout",
     "output_type": "stream",
     "text": [
      "Product added successfully.\n",
      "Product added successfully.\n",
      "Product added successfully.\n",
      "Product added successfully.\n"
     ]
    }
   ],
   "source": [
    "def add_product(name, price):\n",
    "    cur.execute(\"INSERT INTO products (name, price) VALUES (?, ?)\", (name, price))\n",
    "    conn.commit()\n",
    "    print(\"Product added successfully.\")\n",
    "\n",
    "add_product(\"macbook\",\"150000\")\n",
    "add_product(\"redmi y20\",\"25000\")\n",
    "add_product(\"lenovo laptop\",\"100000\")\n",
    "add_product(\"camer\",\"50000\")"
   ]
  },
  {
   "cell_type": "code",
   "execution_count": 3,
   "id": "f22412de-cd81-493d-be5f-51e07f9ffae6",
   "metadata": {},
   "outputs": [],
   "source": [
    "def show_products():\n",
    "    cur.execute(\"SELECT * FROM products\")\n",
    "    products = cur.fetchall()\n",
    "    print(\"\\n Available Products:\")\n",
    "    for p in products:\n",
    "        print(f\"ID: {p[0]} | Name: {p[1]} | Price: ₹{p[2]}\")"
   ]
  },
  {
   "cell_type": "code",
   "execution_count": null,
   "id": "512e965f-2142-4fbe-982a-19971d359ced",
   "metadata": {},
   "outputs": [],
   "source": [
    "def purchase_product(product_id, qty):\n",
    "    cur.execute(\"INSERT INTO cart (product_id, quantity) VALUES (?, ?)\", (product_id, qty))\n",
    "    conn.commit()\n",
    "    print(\" Added to cart!\")\n",
    "\n",
    "\n"
   ]
  }
 ],
 "metadata": {
  "kernelspec": {
   "display_name": "anaconda-panel-2023.05-py310",
   "language": "python",
   "name": "conda-env-anaconda-panel-2023.05-py310-py"
  },
  "language_info": {
   "codemirror_mode": {
    "name": "ipython",
    "version": 3
   },
   "file_extension": ".py",
   "mimetype": "text/x-python",
   "name": "python",
   "nbconvert_exporter": "python",
   "pygments_lexer": "ipython3",
   "version": "3.11.5"
  }
 },
 "nbformat": 4,
 "nbformat_minor": 5
}
